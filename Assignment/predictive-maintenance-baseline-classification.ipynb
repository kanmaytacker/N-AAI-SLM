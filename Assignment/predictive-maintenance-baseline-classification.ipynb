{
 "cells": [
  {
   "cell_type": "code",
   "execution_count": 84,
   "id": "98e827c0-2d16-4963-9672-2488581336f0",
   "metadata": {},
   "outputs": [],
   "source": [
    "import pandas as pd\n",
    "import numpy as np\n",
    "import matplotlib.pyplot as plt\n",
    "import seaborn as sns\n",
    "\n",
    "from sklearn.linear_model import LogisticRegression\n",
    "from sklearn.metrics import confusion_matrix, classification_report, accuracy_score, precision_score, recall_score, f1_score, auc, roc_auc_score, RocCurveDisplay, PrecisionRecallDisplay\n",
    "from sklearn.model_selection import GridSearchCV\n",
    "from sklearn.ensemble import RandomForestClassifier\n",
    "from sklearn.svm import SVC, LinearSVC\n",
    "from sklearn.tree import DecisionTreeClassifier, export_graphviz\n",
    "from sklearn.neighbors import KNeighborsClassifier\n",
    "from sklearn.naive_bayes import GaussianNB"
   ]
  },
  {
   "cell_type": "code",
   "execution_count": 2,
   "id": "c0837eb4",
   "metadata": {},
   "outputs": [],
   "source": [
    "training_data = pd.read_csv(\"data/train_base.csv\")\n",
    "test_data = pd.read_csv(\"data/test_base.csv\")\n"
   ]
  },
  {
   "cell_type": "code",
   "execution_count": 3,
   "id": "44183141",
   "metadata": {},
   "outputs": [
    {
     "data": {
      "text/html": [
       "<div>\n",
       "<style scoped>\n",
       "    .dataframe tbody tr th:only-of-type {\n",
       "        vertical-align: middle;\n",
       "    }\n",
       "\n",
       "    .dataframe tbody tr th {\n",
       "        vertical-align: top;\n",
       "    }\n",
       "\n",
       "    .dataframe thead th {\n",
       "        text-align: right;\n",
       "    }\n",
       "</style>\n",
       "<table border=\"1\" class=\"dataframe\">\n",
       "  <thead>\n",
       "    <tr style=\"text-align: right;\">\n",
       "      <th></th>\n",
       "      <th>ID</th>\n",
       "      <th>Cycle</th>\n",
       "      <th>S1</th>\n",
       "      <th>S2</th>\n",
       "      <th>S3</th>\n",
       "      <th>S4</th>\n",
       "      <th>TTF</th>\n",
       "      <th>TTF_LABEL</th>\n",
       "    </tr>\n",
       "  </thead>\n",
       "  <tbody>\n",
       "    <tr>\n",
       "      <th>0</th>\n",
       "      <td>1</td>\n",
       "      <td>1</td>\n",
       "      <td>1400.60</td>\n",
       "      <td>554.36</td>\n",
       "      <td>47.47</td>\n",
       "      <td>521.66</td>\n",
       "      <td>191</td>\n",
       "      <td>0</td>\n",
       "    </tr>\n",
       "    <tr>\n",
       "      <th>1</th>\n",
       "      <td>1</td>\n",
       "      <td>2</td>\n",
       "      <td>1403.14</td>\n",
       "      <td>553.75</td>\n",
       "      <td>47.49</td>\n",
       "      <td>522.28</td>\n",
       "      <td>190</td>\n",
       "      <td>0</td>\n",
       "    </tr>\n",
       "    <tr>\n",
       "      <th>2</th>\n",
       "      <td>1</td>\n",
       "      <td>3</td>\n",
       "      <td>1404.20</td>\n",
       "      <td>554.26</td>\n",
       "      <td>47.27</td>\n",
       "      <td>522.42</td>\n",
       "      <td>189</td>\n",
       "      <td>0</td>\n",
       "    </tr>\n",
       "    <tr>\n",
       "      <th>3</th>\n",
       "      <td>1</td>\n",
       "      <td>4</td>\n",
       "      <td>1401.87</td>\n",
       "      <td>554.45</td>\n",
       "      <td>47.13</td>\n",
       "      <td>522.86</td>\n",
       "      <td>188</td>\n",
       "      <td>0</td>\n",
       "    </tr>\n",
       "    <tr>\n",
       "      <th>4</th>\n",
       "      <td>1</td>\n",
       "      <td>5</td>\n",
       "      <td>1406.22</td>\n",
       "      <td>554.00</td>\n",
       "      <td>47.28</td>\n",
       "      <td>522.19</td>\n",
       "      <td>187</td>\n",
       "      <td>0</td>\n",
       "    </tr>\n",
       "  </tbody>\n",
       "</table>\n",
       "</div>"
      ],
      "text/plain": [
       "   ID  Cycle       S1      S2     S3      S4  TTF  TTF_LABEL\n",
       "0   1      1  1400.60  554.36  47.47  521.66  191          0\n",
       "1   1      2  1403.14  553.75  47.49  522.28  190          0\n",
       "2   1      3  1404.20  554.26  47.27  522.42  189          0\n",
       "3   1      4  1401.87  554.45  47.13  522.86  188          0\n",
       "4   1      5  1406.22  554.00  47.28  522.19  187          0"
      ]
     },
     "execution_count": 3,
     "metadata": {},
     "output_type": "execute_result"
    }
   ],
   "source": [
    "training_data.head()\n"
   ]
  },
  {
   "cell_type": "code",
   "execution_count": 4,
   "id": "22cec7bd",
   "metadata": {},
   "outputs": [
    {
     "data": {
      "text/html": [
       "<div>\n",
       "<style scoped>\n",
       "    .dataframe tbody tr th:only-of-type {\n",
       "        vertical-align: middle;\n",
       "    }\n",
       "\n",
       "    .dataframe tbody tr th {\n",
       "        vertical-align: top;\n",
       "    }\n",
       "\n",
       "    .dataframe thead th {\n",
       "        text-align: right;\n",
       "    }\n",
       "</style>\n",
       "<table border=\"1\" class=\"dataframe\">\n",
       "  <thead>\n",
       "    <tr style=\"text-align: right;\">\n",
       "      <th></th>\n",
       "      <th>ID</th>\n",
       "      <th>Cycle</th>\n",
       "      <th>S1</th>\n",
       "      <th>S2</th>\n",
       "      <th>S3</th>\n",
       "      <th>S4</th>\n",
       "      <th>TTF</th>\n",
       "      <th>TTF_LABEL</th>\n",
       "    </tr>\n",
       "  </thead>\n",
       "  <tbody>\n",
       "    <tr>\n",
       "      <th>0</th>\n",
       "      <td>1</td>\n",
       "      <td>31</td>\n",
       "      <td>1398.91</td>\n",
       "      <td>554.42</td>\n",
       "      <td>47.23</td>\n",
       "      <td>521.79</td>\n",
       "      <td>112</td>\n",
       "      <td>0</td>\n",
       "    </tr>\n",
       "    <tr>\n",
       "      <th>1</th>\n",
       "      <td>2</td>\n",
       "      <td>49</td>\n",
       "      <td>1410.83</td>\n",
       "      <td>553.52</td>\n",
       "      <td>47.67</td>\n",
       "      <td>521.74</td>\n",
       "      <td>98</td>\n",
       "      <td>0</td>\n",
       "    </tr>\n",
       "    <tr>\n",
       "      <th>2</th>\n",
       "      <td>3</td>\n",
       "      <td>126</td>\n",
       "      <td>1418.89</td>\n",
       "      <td>552.59</td>\n",
       "      <td>47.88</td>\n",
       "      <td>520.83</td>\n",
       "      <td>69</td>\n",
       "      <td>0</td>\n",
       "    </tr>\n",
       "    <tr>\n",
       "      <th>3</th>\n",
       "      <td>4</td>\n",
       "      <td>106</td>\n",
       "      <td>1406.88</td>\n",
       "      <td>552.64</td>\n",
       "      <td>47.65</td>\n",
       "      <td>521.88</td>\n",
       "      <td>82</td>\n",
       "      <td>0</td>\n",
       "    </tr>\n",
       "    <tr>\n",
       "      <th>4</th>\n",
       "      <td>5</td>\n",
       "      <td>98</td>\n",
       "      <td>1419.36</td>\n",
       "      <td>553.29</td>\n",
       "      <td>47.46</td>\n",
       "      <td>521.00</td>\n",
       "      <td>91</td>\n",
       "      <td>0</td>\n",
       "    </tr>\n",
       "  </tbody>\n",
       "</table>\n",
       "</div>"
      ],
      "text/plain": [
       "   ID  Cycle       S1      S2     S3      S4  TTF  TTF_LABEL\n",
       "0   1     31  1398.91  554.42  47.23  521.79  112          0\n",
       "1   2     49  1410.83  553.52  47.67  521.74   98          0\n",
       "2   3    126  1418.89  552.59  47.88  520.83   69          0\n",
       "3   4    106  1406.88  552.64  47.65  521.88   82          0\n",
       "4   5     98  1419.36  553.29  47.46  521.00   91          0"
      ]
     },
     "execution_count": 4,
     "metadata": {},
     "output_type": "execute_result"
    }
   ],
   "source": [
    "test_data.head()\n"
   ]
  },
  {
   "cell_type": "code",
   "execution_count": 5,
   "id": "573fe6d9",
   "metadata": {},
   "outputs": [],
   "source": [
    "# Define features and target\n",
    "features = [\"S1\", \"S2\", \"S3\", \"S4\"]\n",
    "target = \"TTF_LABEL\"\n"
   ]
  },
  {
   "cell_type": "code",
   "execution_count": 6,
   "id": "d86c68c6",
   "metadata": {},
   "outputs": [],
   "source": [
    "X_train = training_data[features]\n",
    "y_train = training_data[target]\n",
    "\n",
    "X_test = test_data[features]\n",
    "y_test = test_data[target]\n"
   ]
  },
  {
   "cell_type": "code",
   "execution_count": 7,
   "id": "36342543",
   "metadata": {},
   "outputs": [
    {
     "data": {
      "text/html": [
       "<div>\n",
       "<style scoped>\n",
       "    .dataframe tbody tr th:only-of-type {\n",
       "        vertical-align: middle;\n",
       "    }\n",
       "\n",
       "    .dataframe tbody tr th {\n",
       "        vertical-align: top;\n",
       "    }\n",
       "\n",
       "    .dataframe thead th {\n",
       "        text-align: right;\n",
       "    }\n",
       "</style>\n",
       "<table border=\"1\" class=\"dataframe\">\n",
       "  <thead>\n",
       "    <tr style=\"text-align: right;\">\n",
       "      <th></th>\n",
       "      <th>S1</th>\n",
       "      <th>S2</th>\n",
       "      <th>S3</th>\n",
       "      <th>S4</th>\n",
       "    </tr>\n",
       "  </thead>\n",
       "  <tbody>\n",
       "    <tr>\n",
       "      <th>0</th>\n",
       "      <td>1400.60</td>\n",
       "      <td>554.36</td>\n",
       "      <td>47.47</td>\n",
       "      <td>521.66</td>\n",
       "    </tr>\n",
       "    <tr>\n",
       "      <th>1</th>\n",
       "      <td>1403.14</td>\n",
       "      <td>553.75</td>\n",
       "      <td>47.49</td>\n",
       "      <td>522.28</td>\n",
       "    </tr>\n",
       "    <tr>\n",
       "      <th>2</th>\n",
       "      <td>1404.20</td>\n",
       "      <td>554.26</td>\n",
       "      <td>47.27</td>\n",
       "      <td>522.42</td>\n",
       "    </tr>\n",
       "    <tr>\n",
       "      <th>3</th>\n",
       "      <td>1401.87</td>\n",
       "      <td>554.45</td>\n",
       "      <td>47.13</td>\n",
       "      <td>522.86</td>\n",
       "    </tr>\n",
       "    <tr>\n",
       "      <th>4</th>\n",
       "      <td>1406.22</td>\n",
       "      <td>554.00</td>\n",
       "      <td>47.28</td>\n",
       "      <td>522.19</td>\n",
       "    </tr>\n",
       "  </tbody>\n",
       "</table>\n",
       "</div>"
      ],
      "text/plain": [
       "        S1      S2     S3      S4\n",
       "0  1400.60  554.36  47.47  521.66\n",
       "1  1403.14  553.75  47.49  522.28\n",
       "2  1404.20  554.26  47.27  522.42\n",
       "3  1401.87  554.45  47.13  522.86\n",
       "4  1406.22  554.00  47.28  522.19"
      ]
     },
     "execution_count": 7,
     "metadata": {},
     "output_type": "execute_result"
    }
   ],
   "source": [
    "X_train.head()\n"
   ]
  },
  {
   "cell_type": "code",
   "execution_count": 8,
   "id": "c09585ab",
   "metadata": {},
   "outputs": [
    {
     "data": {
      "text/plain": [
       "0    0\n",
       "1    0\n",
       "2    0\n",
       "3    0\n",
       "4    0\n",
       "Name: TTF_LABEL, dtype: int64"
      ]
     },
     "execution_count": 8,
     "metadata": {},
     "output_type": "execute_result"
    }
   ],
   "source": [
    "y_train.head()\n"
   ]
  },
  {
   "cell_type": "markdown",
   "id": "da4e360b",
   "metadata": {},
   "source": [
    "## Helper Methods"
   ]
  },
  {
   "cell_type": "markdown",
   "id": "52370e07",
   "metadata": {},
   "source": [
    "### Hyperparameter Tuning"
   ]
  },
  {
   "cell_type": "code",
   "execution_count": 55,
   "id": "7198fe1d",
   "metadata": {},
   "outputs": [],
   "source": [
    "def tune_hyperparameters(\n",
    "    classifier, parameters_grid, X_train, y_train, cv=5, score=None\n",
    "):\n",
    "    \"\"\"Tune the hyperparameters of a regression model using Grid Search\n",
    "\n",
    "    Args:\n",
    "        regressor (str): The model name identifier\n",
    "        parameters_grid (dict): The hyperparameters grid\n",
    "        X_train (dataframe): The training features\n",
    "    \"\"\"\n",
    "    grid = GridSearchCV(classifier, parameters_grid, cv=cv, scoring=score)\n",
    "    grid.fit(X_train, y_train)\n",
    "    print(\n",
    "        f\"The best parameters are {grid.best_params_} with a score of {grid.best_score_}\"\n",
    "    )\n",
    "    return grid.best_estimator_"
   ]
  },
  {
   "cell_type": "markdown",
   "id": "bff6543b",
   "metadata": {},
   "source": [
    "### Generate prediction scores"
   ]
  },
  {
   "cell_type": "code",
   "execution_count": 37,
   "id": "c0dda981",
   "metadata": {},
   "outputs": [],
   "source": [
    "def generate_scores(classifer, X_train, y_train):\n",
    "    \"\"\"Generate the scores of the model\n",
    "\n",
    "    Args:\n",
    "        classifer (str): The model name identifier\n",
    "        X_train (dataframe): The training features\n",
    "        y_train (dataframe): The training target\n",
    "    \"\"\"\n",
    "    return classifer.predict_proba(X_train)[:, 1], classifer.predict_proba(X_test)[:, 1]"
   ]
  },
  {
   "cell_type": "markdown",
   "id": "b77ae59a",
   "metadata": {},
   "source": [
    "### Classification Metrics\n",
    "Metrics to be considered:\n",
    "- Accuracy\n",
    "- Precision\n",
    "- Recall\n",
    "- F1\n",
    "- ROC AUC"
   ]
  },
  {
   "cell_type": "code",
   "execution_count": 40,
   "id": "e304f781",
   "metadata": {},
   "outputs": [],
   "source": [
    "def calculate_classification_metrics(model_name, training_actual, training_predictions, training_scores, test_actual, test_predictions, test_scores):\n",
    "    \"\"\"Calculate the classification metrics\n",
    "\n",
    "    Args:\n",
    "        model_name (str): The model name identifier\n",
    "        training_actual (dataframe): The training actual values\n",
    "        training_predictions (dataframe): The training predicted values\n",
    "        test_actual (dataframe): The test actual values\n",
    "        test_predictions (dataframe): The test predicted values\n",
    "    \"\"\"\n",
    "    training_metrics = {\n",
    "        \"Accuracy\": accuracy_score(training_actual, training_predictions),\n",
    "        \"Precision\": precision_score(training_actual, training_predictions),\n",
    "        \"Recall\": recall_score(training_actual, training_predictions),\n",
    "        \"F1\": f1_score(training_actual, training_predictions),\n",
    "        \"ROC AUC\": roc_auc_score(training_actual, training_scores),\n",
    "    }\n",
    "\n",
    "    test_metrics = {\n",
    "        \"Accuracy\": accuracy_score(test_actual, test_predictions),\n",
    "        \"Precision\": precision_score(test_actual, test_predictions),\n",
    "        \"Recall\": recall_score(test_actual, test_predictions),\n",
    "        \"F1\": f1_score(test_actual, test_predictions),\n",
    "        \"ROC AUC\": roc_auc_score(test_actual, test_scores),\n",
    "    }\n",
    "\n",
    "    metrics = {\n",
    "        f\"{model_name} (Training)\": training_metrics,\n",
    "        f\"{model_name} (Test)\": test_metrics\n",
    "    }\n",
    "\n",
    "    return pd.DataFrame.from_dict(metrics)\n"
   ]
  },
  {
   "cell_type": "markdown",
   "id": "a7b23b7b",
   "metadata": {},
   "source": [
    "### Plot Confusion Matrix"
   ]
  },
  {
   "cell_type": "code",
   "execution_count": 13,
   "id": "c2052f1d",
   "metadata": {},
   "outputs": [],
   "source": [
    "def plot_confusion_matrix(\n",
    "    actual, predicted, cmap=\"Blues\"):\n",
    "    \"\"\"Plot the confusion matrix\n",
    "\n",
    "    Args:\n",
    "        actual (array): The actual values\n",
    "        predicted (array): The predicted values\n",
    "        cmap (str): The color map\n",
    "    \"\"\"\n",
    "    cm = confusion_matrix(actual, predicted)\n",
    "    group_labels = [\"True Positive\", \"False Positive\", \"False Negative\", \"True Negative\"]\n",
    "    counts = [\n",
    "        \"{0:0.0f}\".format(value) for value in cm.flatten()\n",
    "    ]\n",
    "    percentages = [\n",
    "        \"{0:.2%}\".format(value)\n",
    "        for value in cm.flatten() / np.sum(cm)\n",
    "    ]\n",
    "    labels = [\n",
    "        f\"{v1}\\n{v2}\\n{v3}\"\n",
    "        for v1, v2, v3 in zip(group_labels, counts, percentages)\n",
    "    ]\n",
    "    labels = np.asarray(labels).reshape(2, 2)\n",
    "    sns.heatmap(cm, annot=labels, fmt=\"\", cmap=cmap)"
   ]
  },
  {
   "cell_type": "markdown",
   "id": "efc8cf74",
   "metadata": {},
   "source": [
    "### Plot ROC Curve"
   ]
  },
  {
   "cell_type": "code",
   "execution_count": null,
   "id": "c27b0fda",
   "metadata": {},
   "outputs": [],
   "source": [
    "def plot_roc(model_name, classifier, actual, predicted):\n",
    "    \"\"\"Plot the ROC curve\n",
    "\n",
    "    Args:\n",
    "        model_name (str): The model name identifier\n",
    "        classifier (str): The classifier \n",
    "        actual (array): The actual values\n",
    "        predicted (array): The predicted values\n",
    "    \"\"\"\n",
    "    fpr, tpr, threshold = roc_curve(actual, predicted)"
   ]
  },
  {
   "cell_type": "markdown",
   "id": "ad411f49",
   "metadata": {},
   "source": [
    "## Logistic Regression"
   ]
  },
  {
   "cell_type": "code",
   "execution_count": 69,
   "id": "51c2f4ca",
   "metadata": {},
   "outputs": [
    {
     "name": "stdout",
     "output_type": "stream",
     "text": [
      "The best parameters are {'C': 10} with a score of 0.9801424294609669\n"
     ]
    }
   ],
   "source": [
    "# Perform grid search on logistic regression\n",
    "c_space = [.01, 0.1, 1.0, 10]\n",
    "parameters_grid = { \"C\": c_space }\n",
    "tuned_logistic_classifier = tune_hyperparameters(LogisticRegression(), parameters_grid, X_train, y_train, score='roc_auc')"
   ]
  },
  {
   "cell_type": "code",
   "execution_count": 70,
   "id": "e1fb8ed9",
   "metadata": {},
   "outputs": [],
   "source": [
    "# Fit the classifier and predict on test data\n",
    "training_predictions = tuned_logistic_classifier.predict(X_train)\n",
    "test_predictions = tuned_logistic_classifier.predict(X_test)"
   ]
  },
  {
   "cell_type": "code",
   "execution_count": 71,
   "id": "101cbc68",
   "metadata": {},
   "outputs": [
    {
     "data": {
      "image/png": "[encoded data removed]",
      "text/plain": [
       "<Figure size 432x288 with 2 Axes>"
      ]
     },
     "metadata": {
      "needs_background": "light"
     },
     "output_type": "display_data"
    }
   ],
   "source": [
    "# Plot the confusion matrix\n",
    "plot_confusion_matrix(y_test, test_predictions)"
   ]
  },
  {
   "cell_type": "code",
   "execution_count": 65,
   "id": "1faf9aeb",
   "metadata": {},
   "outputs": [
    {
     "data": {
      "text/html": [
       "<div>\n",
       "<style scoped>\n",
       "    .dataframe tbody tr th:only-of-type {\n",
       "        vertical-align: middle;\n",
       "    }\n",
       "\n",
       "    .dataframe tbody tr th {\n",
       "        vertical-align: top;\n",
       "    }\n",
       "\n",
       "    .dataframe thead th {\n",
       "        text-align: right;\n",
       "    }\n",
       "</style>\n",
       "<table border=\"1\" class=\"dataframe\">\n",
       "  <thead>\n",
       "    <tr style=\"text-align: right;\">\n",
       "      <th></th>\n",
       "      <th>Logistic Regression (Training)</th>\n",
       "      <th>Logistic Regression (Test)</th>\n",
       "    </tr>\n",
       "  </thead>\n",
       "  <tbody>\n",
       "    <tr>\n",
       "      <th>Accuracy</th>\n",
       "      <td>0.946973</td>\n",
       "      <td>0.890000</td>\n",
       "    </tr>\n",
       "    <tr>\n",
       "      <th>Precision</th>\n",
       "      <td>0.848022</td>\n",
       "      <td>0.850000</td>\n",
       "    </tr>\n",
       "    <tr>\n",
       "      <th>Recall</th>\n",
       "      <td>0.788387</td>\n",
       "      <td>0.680000</td>\n",
       "    </tr>\n",
       "    <tr>\n",
       "      <th>F1</th>\n",
       "      <td>0.817118</td>\n",
       "      <td>0.755556</td>\n",
       "    </tr>\n",
       "    <tr>\n",
       "      <th>ROC AUC</th>\n",
       "      <td>0.979188</td>\n",
       "      <td>0.959467</td>\n",
       "    </tr>\n",
       "  </tbody>\n",
       "</table>\n",
       "</div>"
      ],
      "text/plain": [
       "           Logistic Regression (Training)  Logistic Regression (Test)\n",
       "Accuracy                         0.946973                    0.890000\n",
       "Precision                        0.848022                    0.850000\n",
       "Recall                           0.788387                    0.680000\n",
       "F1                               0.817118                    0.755556\n",
       "ROC AUC                          0.979188                    0.959467"
      ]
     },
     "execution_count": 65,
     "metadata": {},
     "output_type": "execute_result"
    }
   ],
   "source": [
    "# Calculate the classification metrics\n",
    "prediction_probabilities_training, prediction_probabilities_test = generate_scores(tuned_logistic_classifier, X_train, y_train)\n",
    "logistic_regression_classification_metrics = calculate_classification_metrics('Logistic Regression', y_train, training_predictions, prediction_probabilities_training, y_test, test_predictions, prediction_probabilities_test)\n",
    "logistic_regression_classification_metrics"
   ]
  },
  {
   "cell_type": "code",
   "execution_count": 92,
   "id": "122e1939",
   "metadata": {},
   "outputs": [
    {
     "data": {
      "text/plain": [
       "<sklearn.metrics._plot.roc_curve.RocCurveDisplay at 0x15146fdc0>"
      ]
     },
     "execution_count": 92,
     "metadata": {},
     "output_type": "execute_result"
    },
    {
     "data": {
      "image/png": "[encoded data removed]",
      "text/plain": [
       "<Figure size 432x288 with 1 Axes>"
      ]
     },
     "metadata": {
      "needs_background": "light"
     },
     "output_type": "display_data"
    }
   ],
   "source": [
    "RocCurveDisplay.from_estimator(tuned_logistic_classifier, X_test, y_test)"
   ]
  },
  {
   "cell_type": "code",
   "execution_count": 73,
   "id": "ae8d0bc9",
   "metadata": {},
   "outputs": [
    {
     "data": {
      "text/plain": [
       "<sklearn.metrics._plot.precision_recall_curve.PrecisionRecallDisplay at 0x150bc6130>"
      ]
     },
     "execution_count": 73,
     "metadata": {},
     "output_type": "execute_result"
    },
    {
     "data": {
      "image/png": "[encoded data removed]",
      "text/plain": [
       "<Figure size 432x288 with 1 Axes>"
      ]
     },
     "metadata": {
      "needs_background": "light"
     },
     "output_type": "display_data"
    }
   ],
   "source": [
    "PrecisionRecallDisplay.from_estimator(tuned_logistic_classifier, X_test, y_test)"
   ]
  },
  {
   "cell_type": "markdown",
   "id": "d17f37fe",
   "metadata": {},
   "source": [
    "## Decision Tree classification"
   ]
  },
  {
   "cell_type": "code",
   "execution_count": 76,
   "id": "07f4c3aa",
   "metadata": {},
   "outputs": [
    {
     "name": "stdout",
     "output_type": "stream",
     "text": [
      "The best parameters are {'criterion': 'entropy', 'max_depth': 4} with a score of 0.9735171572097878\n"
     ]
    }
   ],
   "source": [
    "# Perform grid search on decision tree\n",
    "max_depth_space = [2, 3, 4, 5, 6, 7, 8]\n",
    "criterion_space = [\"gini\", \"entropy\"]\n",
    "parameters_grid = { \"max_depth\": max_depth_space, \"criterion\": criterion_space }\n",
    "tuned_decision_tree_classifier = tune_hyperparameters(DecisionTreeClassifier(), parameters_grid, X_train, y_train, score='roc_auc')"
   ]
  },
  {
   "cell_type": "code",
   "execution_count": 80,
   "id": "a6dd4ad8",
   "metadata": {},
   "outputs": [],
   "source": [
    "# Make predictions on training and test data\n",
    "training_predictions = tuned_decision_tree_classifier.predict(X_train)\n",
    "test_predictions = tuned_decision_tree_classifier.predict(X_test)\n",
    "prediction_probabilities_training, prediction_probabilities_test = generate_scores(tuned_decision_tree_classifier, X_train, y_train)"
   ]
  },
  {
   "cell_type": "code",
   "execution_count": 81,
   "id": "2e1305d4",
   "metadata": {},
   "outputs": [
    {
     "data": {
      "image/png": "[encoded data removed]",
      "text/plain": [
       "<Figure size 432x288 with 2 Axes>"
      ]
     },
     "metadata": {
      "needs_background": "light"
     },
     "output_type": "display_data"
    }
   ],
   "source": [
    "# Plot the confusion matrix\n",
    "plot_confusion_matrix(y_test, test_predictions)"
   ]
  },
  {
   "cell_type": "code",
   "execution_count": 82,
   "id": "f4a28630",
   "metadata": {},
   "outputs": [
    {
     "data": {
      "text/html": [
       "<div>\n",
       "<style scoped>\n",
       "    .dataframe tbody tr th:only-of-type {\n",
       "        vertical-align: middle;\n",
       "    }\n",
       "\n",
       "    .dataframe tbody tr th {\n",
       "        vertical-align: top;\n",
       "    }\n",
       "\n",
       "    .dataframe thead th {\n",
       "        text-align: right;\n",
       "    }\n",
       "</style>\n",
       "<table border=\"1\" class=\"dataframe\">\n",
       "  <thead>\n",
       "    <tr style=\"text-align: right;\">\n",
       "      <th></th>\n",
       "      <th>Decision Tree (Training)</th>\n",
       "      <th>Decision Tree (Test)</th>\n",
       "    </tr>\n",
       "  </thead>\n",
       "  <tbody>\n",
       "    <tr>\n",
       "      <th>Accuracy</th>\n",
       "      <td>0.943677</td>\n",
       "      <td>0.890000</td>\n",
       "    </tr>\n",
       "    <tr>\n",
       "      <th>Precision</th>\n",
       "      <td>0.885748</td>\n",
       "      <td>0.888889</td>\n",
       "    </tr>\n",
       "    <tr>\n",
       "      <th>Recall</th>\n",
       "      <td>0.717742</td>\n",
       "      <td>0.640000</td>\n",
       "    </tr>\n",
       "    <tr>\n",
       "      <th>F1</th>\n",
       "      <td>0.792944</td>\n",
       "      <td>0.744186</td>\n",
       "    </tr>\n",
       "    <tr>\n",
       "      <th>ROC AUC</th>\n",
       "      <td>0.976331</td>\n",
       "      <td>0.945333</td>\n",
       "    </tr>\n",
       "  </tbody>\n",
       "</table>\n",
       "</div>"
      ],
      "text/plain": [
       "           Decision Tree (Training)  Decision Tree (Test)\n",
       "Accuracy                   0.943677              0.890000\n",
       "Precision                  0.885748              0.888889\n",
       "Recall                     0.717742              0.640000\n",
       "F1                         0.792944              0.744186\n",
       "ROC AUC                    0.976331              0.945333"
      ]
     },
     "execution_count": 82,
     "metadata": {},
     "output_type": "execute_result"
    }
   ],
   "source": [
    "# Calculate the classification metrics\n",
    "decision_tree_classification_metrics = calculate_classification_metrics('Decision Tree', y_train, training_predictions, prediction_probabilities_training, y_test, test_predictions, prediction_probabilities_test)\n",
    "decision_tree_classification_metrics"
   ]
  },
  {
   "cell_type": "code",
   "execution_count": 93,
   "id": "1c4c2797",
   "metadata": {},
   "outputs": [
    {
     "data": {
      "text/plain": [
       "<sklearn.metrics._plot.roc_curve.RocCurveDisplay at 0x1517fe490>"
      ]
     },
     "execution_count": 93,
     "metadata": {},
     "output_type": "execute_result"
    },
    {
     "data": {
      "image/png": "[encoded data removed]",
      "text/plain": [
       "<Figure size 432x288 with 1 Axes>"
      ]
     },
     "metadata": {
      "needs_background": "light"
     },
     "output_type": "display_data"
    }
   ],
   "source": [
    "# Plot the ROC curve\n",
    "RocCurveDisplay.from_estimator(tuned_decision_tree_classifier, X_test, y_test)"
   ]
  },
  {
   "cell_type": "code",
   "execution_count": 94,
   "id": "fc5d28e8",
   "metadata": {},
   "outputs": [
    {
     "data": {
      "text/plain": [
       "<sklearn.metrics._plot.precision_recall_curve.PrecisionRecallDisplay at 0x151761e20>"
      ]
     },
     "execution_count": 94,
     "metadata": {},
     "output_type": "execute_result"
    },
    {
     "data": {
      "image/png": "[encoded data removed]",
      "text/plain": [
       "<Figure size 432x288 with 1 Axes>"
      ]
     },
     "metadata": {
      "needs_background": "light"
     },
     "output_type": "display_data"
    }
   ],
   "source": [
    "# Plot precision-recall curve\n",
    "PrecisionRecallDisplay.from_estimator(tuned_decision_tree_classifier, X_test, y_test)"
   ]
  },
  {
   "cell_type": "markdown",
   "id": "054af234",
   "metadata": {},
   "source": [
    "## Random Forest classification"
   ]
  },
  {
   "cell_type": "code",
   "execution_count": 102,
   "id": "5d2f8e42",
   "metadata": {},
   "outputs": [
    {
     "name": "stdout",
     "output_type": "stream",
     "text": [
      "The best parameters are {'criterion': 'entropy', 'max_depth': 5} with a score of 0.979874482097238\n"
     ]
    }
   ],
   "source": [
    "# Perform grid search on random forest\n",
    "max_depth_space = [2, 3, 4, 5, 6, 7, 8]\n",
    "criterion_space = [\"gini\", \"entropy\"]\n",
    "parameters_grid = { \"max_depth\": max_depth_space, \"criterion\": criterion_space }\n",
    "\n",
    "tuned_random_forest_classifier = tune_hyperparameters(RandomForestClassifier(random_state=42), parameters_grid, X_train, y_train, score='roc_auc')\n"
   ]
  },
  {
   "cell_type": "code",
   "execution_count": 103,
   "id": "5bd483b3",
   "metadata": {},
   "outputs": [],
   "source": [
    "# Make predictions on training and test data\n",
    "training_predictions = tuned_random_forest_classifier.predict(X_train)\n",
    "test_predictions = tuned_random_forest_classifier.predict(X_test)\n",
    "prediction_probabilities_training, prediction_probabilities_test = generate_scores(tuned_random_forest_classifier, X_train, y_train)"
   ]
  },
  {
   "cell_type": "code",
   "execution_count": 104,
   "id": "f3e909d4",
   "metadata": {},
   "outputs": [
    {
     "data": {
      "image/png": "[encoded data removed]",
      "text/plain": [
       "<Figure size 432x288 with 2 Axes>"
      ]
     },
     "metadata": {
      "needs_background": "light"
     },
     "output_type": "display_data"
    }
   ],
   "source": [
    "# Plot the confusion matrix\n",
    "plot_confusion_matrix(y_test, test_predictions)"
   ]
  },
  {
   "cell_type": "code",
   "execution_count": 105,
   "id": "6ac1072b",
   "metadata": {},
   "outputs": [
    {
     "data": {
      "text/html": [
       "<div>\n",
       "<style scoped>\n",
       "    .dataframe tbody tr th:only-of-type {\n",
       "        vertical-align: middle;\n",
       "    }\n",
       "\n",
       "    .dataframe tbody tr th {\n",
       "        vertical-align: top;\n",
       "    }\n",
       "\n",
       "    .dataframe thead th {\n",
       "        text-align: right;\n",
       "    }\n",
       "</style>\n",
       "<table border=\"1\" class=\"dataframe\">\n",
       "  <thead>\n",
       "    <tr style=\"text-align: right;\">\n",
       "      <th></th>\n",
       "      <th>Random Forest (Training)</th>\n",
       "      <th>Random Forest (Test)</th>\n",
       "    </tr>\n",
       "  </thead>\n",
       "  <tbody>\n",
       "    <tr>\n",
       "      <th>Accuracy</th>\n",
       "      <td>0.948427</td>\n",
       "      <td>0.890000</td>\n",
       "    </tr>\n",
       "    <tr>\n",
       "      <th>Precision</th>\n",
       "      <td>0.862794</td>\n",
       "      <td>0.850000</td>\n",
       "    </tr>\n",
       "    <tr>\n",
       "      <th>Recall</th>\n",
       "      <td>0.780968</td>\n",
       "      <td>0.680000</td>\n",
       "    </tr>\n",
       "    <tr>\n",
       "      <th>F1</th>\n",
       "      <td>0.819844</td>\n",
       "      <td>0.755556</td>\n",
       "    </tr>\n",
       "    <tr>\n",
       "      <th>ROC AUC</th>\n",
       "      <td>0.981679</td>\n",
       "      <td>0.955733</td>\n",
       "    </tr>\n",
       "  </tbody>\n",
       "</table>\n",
       "</div>"
      ],
      "text/plain": [
       "           Random Forest (Training)  Random Forest (Test)\n",
       "Accuracy                   0.948427              0.890000\n",
       "Precision                  0.862794              0.850000\n",
       "Recall                     0.780968              0.680000\n",
       "F1                         0.819844              0.755556\n",
       "ROC AUC                    0.981679              0.955733"
      ]
     },
     "execution_count": 105,
     "metadata": {},
     "output_type": "execute_result"
    }
   ],
   "source": [
    "# Calculate the classification metrics\n",
    "random_forest_classification_metrics = calculate_classification_metrics('Random Forest', y_train, training_predictions, prediction_probabilities_training, y_test, test_predictions, prediction_probabilities_test)\n",
    "random_forest_classification_metrics"
   ]
  },
  {
   "cell_type": "code",
   "execution_count": 110,
   "id": "127beebe",
   "metadata": {},
   "outputs": [
    {
     "data": {
      "text/plain": [
       "<sklearn.metrics._plot.roc_curve.RocCurveDisplay at 0x151d65e50>"
      ]
     },
     "execution_count": 110,
     "metadata": {},
     "output_type": "execute_result"
    },
    {
     "data": {
      "image/png": "[encoded data removed]",
      "text/plain": [
       "<Figure size 432x288 with 1 Axes>"
      ]
     },
     "metadata": {
      "needs_background": "light"
     },
     "output_type": "display_data"
    }
   ],
   "source": [
    "# Plot the ROC curve\n",
    "RocCurveDisplay.from_estimator(tuned_random_forest_classifier, X_test, y_test)"
   ]
  },
  {
   "cell_type": "code",
   "execution_count": 111,
   "id": "ce0b66e5",
   "metadata": {},
   "outputs": [
    {
     "data": {
      "text/plain": [
       "<sklearn.metrics._plot.precision_recall_curve.PrecisionRecallDisplay at 0x151dc7430>"
      ]
     },
     "execution_count": 111,
     "metadata": {},
     "output_type": "execute_result"
    },
    {
     "data": {
      "image/png": "[encoded data removed]",
      "text/plain": [
       "<Figure size 432x288 with 1 Axes>"
      ]
     },
     "metadata": {
      "needs_background": "light"
     },
     "output_type": "display_data"
    }
   ],
   "source": [
    "# Plot precision-recall curve\n",
    "PrecisionRecallDisplay.from_estimator(tuned_random_forest_classifier, X_test, y_test)"
   ]
  },
  {
   "cell_type": "markdown",
   "id": "a18cb228",
   "metadata": {},
   "source": [
    "## K-Nearest Neighbors"
   ]
  },
  {
   "cell_type": "code",
   "execution_count": 116,
   "id": "6c86116a",
   "metadata": {},
   "outputs": [
    {
     "name": "stdout",
     "output_type": "stream",
     "text": [
      "The best parameters are {'n_neighbors': 14} with a score of 0.9620683849374811\n"
     ]
    }
   ],
   "source": [
    "# Perform grid search on KNN\n",
    "n_neighbors_space = [6, 7, 8, 9, 10, 11, 12, 13, 14]\n",
    "parameters_grid = { \"n_neighbors\": n_neighbors_space }\n",
    "tuned_knn_classifier = tune_hyperparameters(KNeighborsClassifier(), parameters_grid, X_train, y_train, score='roc_auc')"
   ]
  },
  {
   "cell_type": "code",
   "execution_count": 117,
   "id": "3e5b194d",
   "metadata": {},
   "outputs": [],
   "source": [
    "# Make predictions on training and test data\n",
    "training_predictions = tuned_knn_classifier.predict(X_train)\n",
    "test_predictions = tuned_knn_classifier.predict(X_test)\n",
    "prediction_probabilities_training, prediction_probabilities_test = generate_scores(tuned_knn_classifier, X_train, y_train)"
   ]
  },
  {
   "cell_type": "code",
   "execution_count": 118,
   "id": "9f7ec6d7",
   "metadata": {},
   "outputs": [
    {
     "data": {
      "image/png": "[encoded data removed]",
      "text/plain": [
       "<Figure size 432x288 with 2 Axes>"
      ]
     },
     "metadata": {
      "needs_background": "light"
     },
     "output_type": "display_data"
    }
   ],
   "source": [
    "# Plot the confusion matrix\n",
    "plot_confusion_matrix(y_test, test_predictions)"
   ]
  },
  {
   "cell_type": "code",
   "execution_count": 119,
   "id": "a2a00976",
   "metadata": {},
   "outputs": [
    {
     "data": {
      "text/html": [
       "<div>\n",
       "<style scoped>\n",
       "    .dataframe tbody tr th:only-of-type {\n",
       "        vertical-align: middle;\n",
       "    }\n",
       "\n",
       "    .dataframe tbody tr th {\n",
       "        vertical-align: top;\n",
       "    }\n",
       "\n",
       "    .dataframe thead th {\n",
       "        text-align: right;\n",
       "    }\n",
       "</style>\n",
       "<table border=\"1\" class=\"dataframe\">\n",
       "  <thead>\n",
       "    <tr style=\"text-align: right;\">\n",
       "      <th></th>\n",
       "      <th>KNN (Training)</th>\n",
       "      <th>KNN (Test)</th>\n",
       "    </tr>\n",
       "  </thead>\n",
       "  <tbody>\n",
       "    <tr>\n",
       "      <th>Accuracy</th>\n",
       "      <td>0.946925</td>\n",
       "      <td>0.890000</td>\n",
       "    </tr>\n",
       "    <tr>\n",
       "      <th>Precision</th>\n",
       "      <td>0.868431</td>\n",
       "      <td>0.937500</td>\n",
       "    </tr>\n",
       "    <tr>\n",
       "      <th>Recall</th>\n",
       "      <td>0.762258</td>\n",
       "      <td>0.600000</td>\n",
       "    </tr>\n",
       "    <tr>\n",
       "      <th>F1</th>\n",
       "      <td>0.811888</td>\n",
       "      <td>0.731707</td>\n",
       "    </tr>\n",
       "    <tr>\n",
       "      <th>ROC AUC</th>\n",
       "      <td>0.982859</td>\n",
       "      <td>0.928267</td>\n",
       "    </tr>\n",
       "  </tbody>\n",
       "</table>\n",
       "</div>"
      ],
      "text/plain": [
       "           KNN (Training)  KNN (Test)\n",
       "Accuracy         0.946925    0.890000\n",
       "Precision        0.868431    0.937500\n",
       "Recall           0.762258    0.600000\n",
       "F1               0.811888    0.731707\n",
       "ROC AUC          0.982859    0.928267"
      ]
     },
     "execution_count": 119,
     "metadata": {},
     "output_type": "execute_result"
    }
   ],
   "source": [
    "# Calculate the classification metrics\n",
    "knn_classification_metrics = calculate_classification_metrics('KNN', y_train, training_predictions, prediction_probabilities_training, y_test, test_predictions, prediction_probabilities_test)\n",
    "knn_classification_metrics"
   ]
  },
  {
   "cell_type": "code",
   "execution_count": 120,
   "id": "f7bb7ec8",
   "metadata": {},
   "outputs": [
    {
     "data": {
      "text/plain": [
       "<sklearn.metrics._plot.roc_curve.RocCurveDisplay at 0x151df40d0>"
      ]
     },
     "execution_count": 120,
     "metadata": {},
     "output_type": "execute_result"
    },
    {
     "data": {
      "image/png": "[encoded data removed]",
      "text/plain": [
       "<Figure size 432x288 with 1 Axes>"
      ]
     },
     "metadata": {
      "needs_background": "light"
     },
     "output_type": "display_data"
    }
   ],
   "source": [
    "# Plot the ROC curve\n",
    "RocCurveDisplay.from_estimator(tuned_knn_classifier, X_test, y_test)"
   ]
  },
  {
   "cell_type": "code",
   "execution_count": 121,
   "id": "24ee2277",
   "metadata": {},
   "outputs": [
    {
     "data": {
      "text/plain": [
       "<sklearn.metrics._plot.precision_recall_curve.PrecisionRecallDisplay at 0x151adcee0>"
      ]
     },
     "execution_count": 121,
     "metadata": {},
     "output_type": "execute_result"
    },
    {
     "data": {
      "image/png": "[encoded data removed]",
      "text/plain": [
       "<Figure size 432x288 with 1 Axes>"
      ]
     },
     "metadata": {
      "needs_background": "light"
     },
     "output_type": "display_data"
    }
   ],
   "source": [
    "# Plot precision-recall curve\n",
    "PrecisionRecallDisplay.from_estimator(tuned_knn_classifier, X_test, y_test)"
   ]
  },
  {
   "cell_type": "markdown",
   "id": "7141b5b9",
   "metadata": {},
   "source": [
    "## Support Vector Machine classification"
   ]
  },
  {
   "cell_type": "code",
   "execution_count": 124,
   "id": "d97c7224",
   "metadata": {},
   "outputs": [
    {
     "name": "stdout",
     "output_type": "stream",
     "text": [
      "The best parameters are {'C': 100} with a score of 0.9674415327955659\n"
     ]
    }
   ],
   "source": [
    "# Perform grid search on SVM\n",
    "c_space = [.001, .01 ,.1 , 1, 10, 20, 100]\n",
    "parameters_grid = { 'C' : c_space }\n",
    "tuned_svm = tune_hyperparameters(SVC(), parameters_grid, X_train, y_train, score='roc_auc')"
   ]
  },
  {
   "cell_type": "code",
   "execution_count": null,
   "id": "1370a324",
   "metadata": {},
   "outputs": [],
   "source": [
    "# Make predictions on training and test data\n",
    "training_predictions = tuned_svm.predict(X_train)\n",
    "test_predictions = tuned_svm.predict(X_test)\n",
    "prediction_probabilities_training, prediction_probabilities_test = generate_scores(tuned_svm, X_train, y_train)"
   ]
  },
  {
   "cell_type": "code",
   "execution_count": 125,
   "id": "db3cabce",
   "metadata": {},
   "outputs": [
    {
     "data": {
      "text/html": [
       "<div>\n",
       "<style scoped>\n",
       "    .dataframe tbody tr th:only-of-type {\n",
       "        vertical-align: middle;\n",
       "    }\n",
       "\n",
       "    .dataframe tbody tr th {\n",
       "        vertical-align: top;\n",
       "    }\n",
       "\n",
       "    .dataframe thead th {\n",
       "        text-align: right;\n",
       "    }\n",
       "</style>\n",
       "<table border=\"1\" class=\"dataframe\">\n",
       "  <thead>\n",
       "    <tr style=\"text-align: right;\">\n",
       "      <th></th>\n",
       "      <th>SVM (Training)</th>\n",
       "      <th>SVM (Test)</th>\n",
       "    </tr>\n",
       "  </thead>\n",
       "  <tbody>\n",
       "    <tr>\n",
       "      <th>Accuracy</th>\n",
       "      <td>0.946925</td>\n",
       "      <td>0.890000</td>\n",
       "    </tr>\n",
       "    <tr>\n",
       "      <th>Precision</th>\n",
       "      <td>0.868431</td>\n",
       "      <td>0.937500</td>\n",
       "    </tr>\n",
       "    <tr>\n",
       "      <th>Recall</th>\n",
       "      <td>0.762258</td>\n",
       "      <td>0.600000</td>\n",
       "    </tr>\n",
       "    <tr>\n",
       "      <th>F1</th>\n",
       "      <td>0.811888</td>\n",
       "      <td>0.731707</td>\n",
       "    </tr>\n",
       "    <tr>\n",
       "      <th>ROC AUC</th>\n",
       "      <td>0.982859</td>\n",
       "      <td>0.928267</td>\n",
       "    </tr>\n",
       "  </tbody>\n",
       "</table>\n",
       "</div>"
      ],
      "text/plain": [
       "           SVM (Training)  SVM (Test)\n",
       "Accuracy         0.946925    0.890000\n",
       "Precision        0.868431    0.937500\n",
       "Recall           0.762258    0.600000\n",
       "F1               0.811888    0.731707\n",
       "ROC AUC          0.982859    0.928267"
      ]
     },
     "execution_count": 125,
     "metadata": {},
     "output_type": "execute_result"
    }
   ],
   "source": [
    "# Calculate the classification metrics\n",
    "svm_classification_metrics = calculate_classification_metrics('SVM', y_train, training_predictions, prediction_probabilities_training, y_test, test_predictions, prediction_probabilities_test)\n",
    "svm_classification_metrics"
   ]
  },
  {
   "cell_type": "code",
   "execution_count": 126,
   "id": "e4707af9",
   "metadata": {},
   "outputs": [
    {
     "data": {
      "text/plain": [
       "<sklearn.metrics._plot.roc_curve.RocCurveDisplay at 0x151d33cd0>"
      ]
     },
     "execution_count": 126,
     "metadata": {},
     "output_type": "execute_result"
    },
    {
     "data": {
      "image/png": "[encoded data removed]",
      "text/plain": [
       "<Figure size 432x288 with 1 Axes>"
      ]
     },
     "metadata": {
      "needs_background": "light"
     },
     "output_type": "display_data"
    }
   ],
   "source": [
    "# Plot the ROC curve\n",
    "RocCurveDisplay.from_estimator(tuned_svm, X_test, y_test)"
   ]
  },
  {
   "cell_type": "markdown",
   "id": "c2223da4",
   "metadata": {},
   "source": [
    "## Gaussian Naive Bayes"
   ]
  },
  {
   "cell_type": "code",
   "execution_count": 127,
   "id": "a4f185e7",
   "metadata": {},
   "outputs": [
    {
     "data": {
      "text/plain": [
       "GaussianNB()"
      ]
     },
     "execution_count": 127,
     "metadata": {},
     "output_type": "execute_result"
    }
   ],
   "source": [
    "# Define the naive bayes model and fit it to the training data\n",
    "naive_bayes_model = GaussianNB()\n",
    "naive_bayes_model.fit(X_train, y_train)"
   ]
  },
  {
   "cell_type": "code",
   "execution_count": 128,
   "id": "ab9c25ef",
   "metadata": {},
   "outputs": [],
   "source": [
    "# Make predictions on training and test data\n",
    "training_predictions = naive_bayes_model.predict(X_train)\n",
    "test_predictions = naive_bayes_model.predict(X_test)\n",
    "prediction_probabilities_training, prediction_probabilities_test = generate_scores(naive_bayes_model, X_train, y_train)"
   ]
  },
  {
   "cell_type": "code",
   "execution_count": 129,
   "id": "640bfc3a",
   "metadata": {},
   "outputs": [
    {
     "data": {
      "image/png": "[encoded data removed]",
      "text/plain": [
       "<Figure size 432x288 with 2 Axes>"
      ]
     },
     "metadata": {
      "needs_background": "light"
     },
     "output_type": "display_data"
    }
   ],
   "source": [
    "# Plot the confusion matrix\n",
    "plot_confusion_matrix(y_test, test_predictions)"
   ]
  },
  {
   "cell_type": "code",
   "execution_count": 131,
   "id": "e4848957",
   "metadata": {},
   "outputs": [
    {
     "data": {
      "text/html": [
       "<div>\n",
       "<style scoped>\n",
       "    .dataframe tbody tr th:only-of-type {\n",
       "        vertical-align: middle;\n",
       "    }\n",
       "\n",
       "    .dataframe tbody tr th {\n",
       "        vertical-align: top;\n",
       "    }\n",
       "\n",
       "    .dataframe thead th {\n",
       "        text-align: right;\n",
       "    }\n",
       "</style>\n",
       "<table border=\"1\" class=\"dataframe\">\n",
       "  <thead>\n",
       "    <tr style=\"text-align: right;\">\n",
       "      <th></th>\n",
       "      <th>Naive Bayes (Training)</th>\n",
       "      <th>Naive Bayes (Test)</th>\n",
       "    </tr>\n",
       "  </thead>\n",
       "  <tbody>\n",
       "    <tr>\n",
       "      <th>Accuracy</th>\n",
       "      <td>0.930687</td>\n",
       "      <td>0.890000</td>\n",
       "    </tr>\n",
       "    <tr>\n",
       "      <th>Precision</th>\n",
       "      <td>0.711392</td>\n",
       "      <td>0.818182</td>\n",
       "    </tr>\n",
       "    <tr>\n",
       "      <th>Recall</th>\n",
       "      <td>0.906452</td>\n",
       "      <td>0.720000</td>\n",
       "    </tr>\n",
       "    <tr>\n",
       "      <th>F1</th>\n",
       "      <td>0.797163</td>\n",
       "      <td>0.765957</td>\n",
       "    </tr>\n",
       "    <tr>\n",
       "      <th>ROC AUC</th>\n",
       "      <td>0.979059</td>\n",
       "      <td>0.959467</td>\n",
       "    </tr>\n",
       "  </tbody>\n",
       "</table>\n",
       "</div>"
      ],
      "text/plain": [
       "           Naive Bayes (Training)  Naive Bayes (Test)\n",
       "Accuracy                 0.930687            0.890000\n",
       "Precision                0.711392            0.818182\n",
       "Recall                   0.906452            0.720000\n",
       "F1                       0.797163            0.765957\n",
       "ROC AUC                  0.979059            0.959467"
      ]
     },
     "execution_count": 131,
     "metadata": {},
     "output_type": "execute_result"
    }
   ],
   "source": [
    "# Calculate the classification metrics\n",
    "naive_bayes_classification_metrics = calculate_classification_metrics('Naive Bayes', y_train, training_predictions, prediction_probabilities_training, y_test, test_predictions, prediction_probabilities_test)\n",
    "naive_bayes_classification_metrics"
   ]
  },
  {
   "cell_type": "code",
   "execution_count": 132,
   "id": "7c645692",
   "metadata": {},
   "outputs": [
    {
     "data": {
      "text/plain": [
       "<sklearn.metrics._plot.roc_curve.RocCurveDisplay at 0x1518832e0>"
      ]
     },
     "execution_count": 132,
     "metadata": {},
     "output_type": "execute_result"
    },
    {
     "data": {
      "image/png": "[encoded data removed]",
      "text/plain": [
       "<Figure size 432x288 with 1 Axes>"
      ]
     },
     "metadata": {
      "needs_background": "light"
     },
     "output_type": "display_data"
    }
   ],
   "source": [
    "# Plot the ROC curve\n",
    "RocCurveDisplay.from_estimator(naive_bayes_model, X_test, y_test)"
   ]
  },
  {
   "cell_type": "code",
   "execution_count": 133,
   "id": "726ee130",
   "metadata": {},
   "outputs": [
    {
     "data": {
      "text/plain": [
       "<sklearn.metrics._plot.precision_recall_curve.PrecisionRecallDisplay at 0x15353ff70>"
      ]
     },
     "execution_count": 133,
     "metadata": {},
     "output_type": "execute_result"
    },
    {
     "data": {
      "image/png": "[encoded data removed]",
      "text/plain": [
       "<Figure size 432x288 with 1 Axes>"
      ]
     },
     "metadata": {
      "needs_background": "light"
     },
     "output_type": "display_data"
    }
   ],
   "source": [
    "# Plot precision-recall curve\n",
    "PrecisionRecallDisplay.from_estimator(naive_bayes_model, X_test, y_test)"
   ]
  },
  {
   "cell_type": "markdown",
   "id": "9e6ad4f0",
   "metadata": {},
   "source": [
    "# Comparison of Classification Algorithms"
   ]
  },
  {
   "cell_type": "code",
   "execution_count": 134,
   "id": "1f18726e",
   "metadata": {},
   "outputs": [
    {
     "data": {
      "text/html": [
       "<div>\n",
       "<style scoped>\n",
       "    .dataframe tbody tr th:only-of-type {\n",
       "        vertical-align: middle;\n",
       "    }\n",
       "\n",
       "    .dataframe tbody tr th {\n",
       "        vertical-align: top;\n",
       "    }\n",
       "\n",
       "    .dataframe thead th {\n",
       "        text-align: right;\n",
       "    }\n",
       "</style>\n",
       "<table border=\"1\" class=\"dataframe\">\n",
       "  <thead>\n",
       "    <tr style=\"text-align: right;\">\n",
       "      <th></th>\n",
       "      <th>Logistic Regression (Test)</th>\n",
       "      <th>Decision Tree (Test)</th>\n",
       "      <th>Random Forest (Test)</th>\n",
       "      <th>KNN (Test)</th>\n",
       "      <th>SVM (Test)</th>\n",
       "      <th>Naive Bayes (Test)</th>\n",
       "    </tr>\n",
       "  </thead>\n",
       "  <tbody>\n",
       "    <tr>\n",
       "      <th>Accuracy</th>\n",
       "      <td>0.890000</td>\n",
       "      <td>0.890000</td>\n",
       "      <td>0.890000</td>\n",
       "      <td>0.890000</td>\n",
       "      <td>0.890000</td>\n",
       "      <td>0.890000</td>\n",
       "    </tr>\n",
       "    <tr>\n",
       "      <th>Precision</th>\n",
       "      <td>0.850000</td>\n",
       "      <td>0.888889</td>\n",
       "      <td>0.850000</td>\n",
       "      <td>0.937500</td>\n",
       "      <td>0.937500</td>\n",
       "      <td>0.818182</td>\n",
       "    </tr>\n",
       "    <tr>\n",
       "      <th>Recall</th>\n",
       "      <td>0.680000</td>\n",
       "      <td>0.640000</td>\n",
       "      <td>0.680000</td>\n",
       "      <td>0.600000</td>\n",
       "      <td>0.600000</td>\n",
       "      <td>0.720000</td>\n",
       "    </tr>\n",
       "    <tr>\n",
       "      <th>F1</th>\n",
       "      <td>0.755556</td>\n",
       "      <td>0.744186</td>\n",
       "      <td>0.755556</td>\n",
       "      <td>0.731707</td>\n",
       "      <td>0.731707</td>\n",
       "      <td>0.765957</td>\n",
       "    </tr>\n",
       "    <tr>\n",
       "      <th>ROC AUC</th>\n",
       "      <td>0.959467</td>\n",
       "      <td>0.945333</td>\n",
       "      <td>0.955733</td>\n",
       "      <td>0.928267</td>\n",
       "      <td>0.928267</td>\n",
       "      <td>0.959467</td>\n",
       "    </tr>\n",
       "  </tbody>\n",
       "</table>\n",
       "</div>"
      ],
      "text/plain": [
       "           Logistic Regression (Test)  Decision Tree (Test)  \\\n",
       "Accuracy                     0.890000              0.890000   \n",
       "Precision                    0.850000              0.888889   \n",
       "Recall                       0.680000              0.640000   \n",
       "F1                           0.755556              0.744186   \n",
       "ROC AUC                      0.959467              0.945333   \n",
       "\n",
       "           Random Forest (Test)  KNN (Test)  SVM (Test)  Naive Bayes (Test)  \n",
       "Accuracy               0.890000    0.890000    0.890000            0.890000  \n",
       "Precision              0.850000    0.937500    0.937500            0.818182  \n",
       "Recall                 0.680000    0.600000    0.600000            0.720000  \n",
       "F1                     0.755556    0.731707    0.731707            0.765957  \n",
       "ROC AUC                0.955733    0.928267    0.928267            0.959467  "
      ]
     },
     "execution_count": 134,
     "metadata": {},
     "output_type": "execute_result"
    }
   ],
   "source": [
    "metrics = pd.concat([logistic_regression_classification_metrics, decision_tree_classification_metrics, random_forest_classification_metrics, knn_classification_metrics, svm_classification_metrics, naive_bayes_classification_metrics], axis=1)\n",
    "test_metrics = metrics.filter(like=\"(Test)\", axis=1)\n",
    "test_metrics"
   ]
  }
 ],
 "metadata": {
  "interpreter": {
   "hash": "370c432e96fa8207a363aa19249434d63375148c4a55e8542936cb07680fb1ca"
  },
  "kernelspec": {
   "display_name": "Python 3.9.1 64-bit ('SLM-Code': pyenv)",
   "name": "python3"
  },
  "language_info": {
   "codemirror_mode": {
    "name": "ipython",
    "version": 3
   },
   "file_extension": ".py",
   "mimetype": "text/x-python",
   "name": "python",
   "nbconvert_exporter": "python",
   "pygments_lexer": "ipython3",
   "version": "3.9.1"
  }
 },
 "nbformat": 4,
 "nbformat_minor": 5
}
