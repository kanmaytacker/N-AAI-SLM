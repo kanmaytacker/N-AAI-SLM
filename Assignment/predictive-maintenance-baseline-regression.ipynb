{
 "cells": [
  {
   "cell_type": "code",
   "execution_count": 74,
   "id": "98e827c0-2d16-4963-9672-2488581336f0",
   "metadata": {},
   "outputs": [],
   "source": [
    "import pandas as pd\n",
    "import numpy as np\n",
    "import matplotlib.pyplot as plt\n",
    "import seaborn as sns\n",
    "\n",
    "from sklearn.linear_model import LinearRegression, Ridge, Lasso, ElasticNet\n",
    "from sklearn.metrics import mean_squared_error, r2_score\n",
    "from sklearn.model_selection import (\n",
    "    train_test_split,\n",
    "    GridSearchCV,\n",
    "    cross_val_score,\n",
    "    KFold,\n",
    ")\n",
    "from sklearn.preprocessing import PolynomialFeatures\n",
    "from sklearn.ensemble import RandomForestRegressor\n",
    "from sklearn.tree import DecisionTreeRegressor\n",
    "from sklearn.feature_selection import SelectFromModel, RFECV\n",
    "from sklearn.svm import SVR\n"
   ]
  },
  {
   "cell_type": "code",
   "execution_count": 2,
   "id": "c0837eb4",
   "metadata": {},
   "outputs": [],
   "source": [
    "training_data = pd.read_csv(\"data/train_base.csv\")\n",
    "test_data = pd.read_csv(\"data/test_base.csv\")\n"
   ]
  },
  {
   "cell_type": "code",
   "execution_count": 3,
   "id": "44183141",
   "metadata": {},
   "outputs": [
    {
     "data": {
      "text/html": [
       "<div>\n",
       "<style scoped>\n",
       "    .dataframe tbody tr th:only-of-type {\n",
       "        vertical-align: middle;\n",
       "    }\n",
       "\n",
       "    .dataframe tbody tr th {\n",
       "        vertical-align: top;\n",
       "    }\n",
       "\n",
       "    .dataframe thead th {\n",
       "        text-align: right;\n",
       "    }\n",
       "</style>\n",
       "<table border=\"1\" class=\"dataframe\">\n",
       "  <thead>\n",
       "    <tr style=\"text-align: right;\">\n",
       "      <th></th>\n",
       "      <th>ID</th>\n",
       "      <th>Cycle</th>\n",
       "      <th>S1</th>\n",
       "      <th>S2</th>\n",
       "      <th>S3</th>\n",
       "      <th>S4</th>\n",
       "      <th>TTF</th>\n",
       "      <th>TTF_LABEL</th>\n",
       "    </tr>\n",
       "  </thead>\n",
       "  <tbody>\n",
       "    <tr>\n",
       "      <th>0</th>\n",
       "      <td>1</td>\n",
       "      <td>1</td>\n",
       "      <td>1400.60</td>\n",
       "      <td>554.36</td>\n",
       "      <td>47.47</td>\n",
       "      <td>521.66</td>\n",
       "      <td>191</td>\n",
       "      <td>0</td>\n",
       "    </tr>\n",
       "    <tr>\n",
       "      <th>1</th>\n",
       "      <td>1</td>\n",
       "      <td>2</td>\n",
       "      <td>1403.14</td>\n",
       "      <td>553.75</td>\n",
       "      <td>47.49</td>\n",
       "      <td>522.28</td>\n",
       "      <td>190</td>\n",
       "      <td>0</td>\n",
       "    </tr>\n",
       "    <tr>\n",
       "      <th>2</th>\n",
       "      <td>1</td>\n",
       "      <td>3</td>\n",
       "      <td>1404.20</td>\n",
       "      <td>554.26</td>\n",
       "      <td>47.27</td>\n",
       "      <td>522.42</td>\n",
       "      <td>189</td>\n",
       "      <td>0</td>\n",
       "    </tr>\n",
       "    <tr>\n",
       "      <th>3</th>\n",
       "      <td>1</td>\n",
       "      <td>4</td>\n",
       "      <td>1401.87</td>\n",
       "      <td>554.45</td>\n",
       "      <td>47.13</td>\n",
       "      <td>522.86</td>\n",
       "      <td>188</td>\n",
       "      <td>0</td>\n",
       "    </tr>\n",
       "    <tr>\n",
       "      <th>4</th>\n",
       "      <td>1</td>\n",
       "      <td>5</td>\n",
       "      <td>1406.22</td>\n",
       "      <td>554.00</td>\n",
       "      <td>47.28</td>\n",
       "      <td>522.19</td>\n",
       "      <td>187</td>\n",
       "      <td>0</td>\n",
       "    </tr>\n",
       "  </tbody>\n",
       "</table>\n",
       "</div>"
      ],
      "text/plain": [
       "   ID  Cycle       S1      S2     S3      S4  TTF  TTF_LABEL\n",
       "0   1      1  1400.60  554.36  47.47  521.66  191          0\n",
       "1   1      2  1403.14  553.75  47.49  522.28  190          0\n",
       "2   1      3  1404.20  554.26  47.27  522.42  189          0\n",
       "3   1      4  1401.87  554.45  47.13  522.86  188          0\n",
       "4   1      5  1406.22  554.00  47.28  522.19  187          0"
      ]
     },
     "execution_count": 3,
     "metadata": {},
     "output_type": "execute_result"
    }
   ],
   "source": [
    "training_data.head()\n"
   ]
  },
  {
   "cell_type": "code",
   "execution_count": 4,
   "id": "22cec7bd",
   "metadata": {},
   "outputs": [
    {
     "data": {
      "text/html": [
       "<div>\n",
       "<style scoped>\n",
       "    .dataframe tbody tr th:only-of-type {\n",
       "        vertical-align: middle;\n",
       "    }\n",
       "\n",
       "    .dataframe tbody tr th {\n",
       "        vertical-align: top;\n",
       "    }\n",
       "\n",
       "    .dataframe thead th {\n",
       "        text-align: right;\n",
       "    }\n",
       "</style>\n",
       "<table border=\"1\" class=\"dataframe\">\n",
       "  <thead>\n",
       "    <tr style=\"text-align: right;\">\n",
       "      <th></th>\n",
       "      <th>ID</th>\n",
       "      <th>Cycle</th>\n",
       "      <th>S1</th>\n",
       "      <th>S2</th>\n",
       "      <th>S3</th>\n",
       "      <th>S4</th>\n",
       "      <th>TTF</th>\n",
       "      <th>TTF_LABEL</th>\n",
       "    </tr>\n",
       "  </thead>\n",
       "  <tbody>\n",
       "    <tr>\n",
       "      <th>0</th>\n",
       "      <td>1</td>\n",
       "      <td>31</td>\n",
       "      <td>1398.91</td>\n",
       "      <td>554.42</td>\n",
       "      <td>47.23</td>\n",
       "      <td>521.79</td>\n",
       "      <td>112</td>\n",
       "      <td>0</td>\n",
       "    </tr>\n",
       "    <tr>\n",
       "      <th>1</th>\n",
       "      <td>2</td>\n",
       "      <td>49</td>\n",
       "      <td>1410.83</td>\n",
       "      <td>553.52</td>\n",
       "      <td>47.67</td>\n",
       "      <td>521.74</td>\n",
       "      <td>98</td>\n",
       "      <td>0</td>\n",
       "    </tr>\n",
       "    <tr>\n",
       "      <th>2</th>\n",
       "      <td>3</td>\n",
       "      <td>126</td>\n",
       "      <td>1418.89</td>\n",
       "      <td>552.59</td>\n",
       "      <td>47.88</td>\n",
       "      <td>520.83</td>\n",
       "      <td>69</td>\n",
       "      <td>0</td>\n",
       "    </tr>\n",
       "    <tr>\n",
       "      <th>3</th>\n",
       "      <td>4</td>\n",
       "      <td>106</td>\n",
       "      <td>1406.88</td>\n",
       "      <td>552.64</td>\n",
       "      <td>47.65</td>\n",
       "      <td>521.88</td>\n",
       "      <td>82</td>\n",
       "      <td>0</td>\n",
       "    </tr>\n",
       "    <tr>\n",
       "      <th>4</th>\n",
       "      <td>5</td>\n",
       "      <td>98</td>\n",
       "      <td>1419.36</td>\n",
       "      <td>553.29</td>\n",
       "      <td>47.46</td>\n",
       "      <td>521.00</td>\n",
       "      <td>91</td>\n",
       "      <td>0</td>\n",
       "    </tr>\n",
       "  </tbody>\n",
       "</table>\n",
       "</div>"
      ],
      "text/plain": [
       "   ID  Cycle       S1      S2     S3      S4  TTF  TTF_LABEL\n",
       "0   1     31  1398.91  554.42  47.23  521.79  112          0\n",
       "1   2     49  1410.83  553.52  47.67  521.74   98          0\n",
       "2   3    126  1418.89  552.59  47.88  520.83   69          0\n",
       "3   4    106  1406.88  552.64  47.65  521.88   82          0\n",
       "4   5     98  1419.36  553.29  47.46  521.00   91          0"
      ]
     },
     "execution_count": 4,
     "metadata": {},
     "output_type": "execute_result"
    }
   ],
   "source": [
    "test_data.head()\n"
   ]
  },
  {
   "cell_type": "code",
   "execution_count": 89,
   "id": "573fe6d9",
   "metadata": {},
   "outputs": [],
   "source": [
    "# Define the target and features\n",
    "features = [\"S1\", \"S2\", \"S3\", \"S4\", \"Cycle\"]\n",
    "target = \"TTF\"\n"
   ]
  },
  {
   "cell_type": "code",
   "execution_count": 90,
   "id": "26979eac",
   "metadata": {},
   "outputs": [],
   "source": [
    "X_train = training_data[features]\n",
    "y_train = training_data[target]\n",
    "\n",
    "X_test = test_data[features]\n",
    "y_test = test_data[target]\n"
   ]
  },
  {
   "cell_type": "code",
   "execution_count": 7,
   "id": "36342543",
   "metadata": {},
   "outputs": [
    {
     "data": {
      "text/html": [
       "<div>\n",
       "<style scoped>\n",
       "    .dataframe tbody tr th:only-of-type {\n",
       "        vertical-align: middle;\n",
       "    }\n",
       "\n",
       "    .dataframe tbody tr th {\n",
       "        vertical-align: top;\n",
       "    }\n",
       "\n",
       "    .dataframe thead th {\n",
       "        text-align: right;\n",
       "    }\n",
       "</style>\n",
       "<table border=\"1\" class=\"dataframe\">\n",
       "  <thead>\n",
       "    <tr style=\"text-align: right;\">\n",
       "      <th></th>\n",
       "      <th>S1</th>\n",
       "      <th>S2</th>\n",
       "      <th>S3</th>\n",
       "      <th>S4</th>\n",
       "    </tr>\n",
       "  </thead>\n",
       "  <tbody>\n",
       "    <tr>\n",
       "      <th>0</th>\n",
       "      <td>1400.60</td>\n",
       "      <td>554.36</td>\n",
       "      <td>47.47</td>\n",
       "      <td>521.66</td>\n",
       "    </tr>\n",
       "    <tr>\n",
       "      <th>1</th>\n",
       "      <td>1403.14</td>\n",
       "      <td>553.75</td>\n",
       "      <td>47.49</td>\n",
       "      <td>522.28</td>\n",
       "    </tr>\n",
       "    <tr>\n",
       "      <th>2</th>\n",
       "      <td>1404.20</td>\n",
       "      <td>554.26</td>\n",
       "      <td>47.27</td>\n",
       "      <td>522.42</td>\n",
       "    </tr>\n",
       "    <tr>\n",
       "      <th>3</th>\n",
       "      <td>1401.87</td>\n",
       "      <td>554.45</td>\n",
       "      <td>47.13</td>\n",
       "      <td>522.86</td>\n",
       "    </tr>\n",
       "    <tr>\n",
       "      <th>4</th>\n",
       "      <td>1406.22</td>\n",
       "      <td>554.00</td>\n",
       "      <td>47.28</td>\n",
       "      <td>522.19</td>\n",
       "    </tr>\n",
       "  </tbody>\n",
       "</table>\n",
       "</div>"
      ],
      "text/plain": [
       "        S1      S2     S3      S4\n",
       "0  1400.60  554.36  47.47  521.66\n",
       "1  1403.14  553.75  47.49  522.28\n",
       "2  1404.20  554.26  47.27  522.42\n",
       "3  1401.87  554.45  47.13  522.86\n",
       "4  1406.22  554.00  47.28  522.19"
      ]
     },
     "execution_count": 7,
     "metadata": {},
     "output_type": "execute_result"
    }
   ],
   "source": [
    "X_train.head()\n"
   ]
  },
  {
   "cell_type": "code",
   "execution_count": 8,
   "id": "699cbb13",
   "metadata": {},
   "outputs": [
    {
     "data": {
      "text/html": [
       "<div>\n",
       "<style scoped>\n",
       "    .dataframe tbody tr th:only-of-type {\n",
       "        vertical-align: middle;\n",
       "    }\n",
       "\n",
       "    .dataframe tbody tr th {\n",
       "        vertical-align: top;\n",
       "    }\n",
       "\n",
       "    .dataframe thead th {\n",
       "        text-align: right;\n",
       "    }\n",
       "</style>\n",
       "<table border=\"1\" class=\"dataframe\">\n",
       "  <thead>\n",
       "    <tr style=\"text-align: right;\">\n",
       "      <th></th>\n",
       "      <th>S1</th>\n",
       "      <th>S2</th>\n",
       "      <th>S3</th>\n",
       "      <th>S4</th>\n",
       "    </tr>\n",
       "  </thead>\n",
       "  <tbody>\n",
       "    <tr>\n",
       "      <th>0</th>\n",
       "      <td>1398.91</td>\n",
       "      <td>554.42</td>\n",
       "      <td>47.23</td>\n",
       "      <td>521.79</td>\n",
       "    </tr>\n",
       "    <tr>\n",
       "      <th>1</th>\n",
       "      <td>1410.83</td>\n",
       "      <td>553.52</td>\n",
       "      <td>47.67</td>\n",
       "      <td>521.74</td>\n",
       "    </tr>\n",
       "    <tr>\n",
       "      <th>2</th>\n",
       "      <td>1418.89</td>\n",
       "      <td>552.59</td>\n",
       "      <td>47.88</td>\n",
       "      <td>520.83</td>\n",
       "    </tr>\n",
       "    <tr>\n",
       "      <th>3</th>\n",
       "      <td>1406.88</td>\n",
       "      <td>552.64</td>\n",
       "      <td>47.65</td>\n",
       "      <td>521.88</td>\n",
       "    </tr>\n",
       "    <tr>\n",
       "      <th>4</th>\n",
       "      <td>1419.36</td>\n",
       "      <td>553.29</td>\n",
       "      <td>47.46</td>\n",
       "      <td>521.00</td>\n",
       "    </tr>\n",
       "  </tbody>\n",
       "</table>\n",
       "</div>"
      ],
      "text/plain": [
       "        S1      S2     S3      S4\n",
       "0  1398.91  554.42  47.23  521.79\n",
       "1  1410.83  553.52  47.67  521.74\n",
       "2  1418.89  552.59  47.88  520.83\n",
       "3  1406.88  552.64  47.65  521.88\n",
       "4  1419.36  553.29  47.46  521.00"
      ]
     },
     "execution_count": 8,
     "metadata": {},
     "output_type": "execute_result"
    }
   ],
   "source": [
    "X_test.head()\n"
   ]
  },
  {
   "cell_type": "markdown",
   "id": "8a691b63",
   "metadata": {},
   "source": [
    "## Helper Methods"
   ]
  },
  {
   "cell_type": "markdown",
   "id": "ec0fceb8",
   "metadata": {},
   "source": [
    "### Hyperparameter tuning"
   ]
  },
  {
   "cell_type": "code",
   "execution_count": 9,
   "id": "09e493a8",
   "metadata": {},
   "outputs": [],
   "source": [
    "def tune_hyperparameters(regressor, parameters_grid, X_train, y_train, cv=5):\n",
    "\n",
    "    \"\"\"Tune the hyperparameters of a regression model using Grid Search\n",
    "\n",
    "    Args:\n",
    "        regressor (str): The model name identifier\n",
    "        parameters_grid (dict): The hyperparameters grid\n",
    "        X_train (dataframe): The training features\n",
    "        y_train (series): The training labels\n",
    "    \"\"\"\n",
    "    grid = GridSearchCV(regressor, parameters_grid, cv=cv)\n",
    "    grid.fit(X_train, y_train)\n",
    "    print(\n",
    "        f\"The best parameters are {grid.best_params_} with a score of {grid.best_score_}\"\n",
    "    )\n",
    "    return grid.best_estimator_\n"
   ]
  },
  {
   "cell_type": "markdown",
   "id": "e9f9950b",
   "metadata": {},
   "source": [
    "### Model fitting and predictions"
   ]
  },
  {
   "cell_type": "code",
   "execution_count": 10,
   "id": "0b125dc3",
   "metadata": {},
   "outputs": [],
   "source": [
    "def train_model_and_predict(regressor, X_train, y_train, X_test):\n",
    "\n",
    "    \"\"\"Train and predict a regression model\n",
    "\n",
    "    Args:\n",
    "        regressor (str): The model name identifier\n",
    "        X_train (dataframe): The training features\n",
    "        y_train (series): The training labels\n",
    "        X_test (dataframe): The test features\n",
    "    \"\"\"\n",
    "    regressor.fit(X_train, y_train)\n",
    "    training_predictions = regressor.predict(X_train)\n",
    "    test_predictions = regressor.predict(X_test)\n",
    "    return training_predictions, test_predictions\n"
   ]
  },
  {
   "cell_type": "markdown",
   "id": "45f34348",
   "metadata": {},
   "source": [
    "### Calculate regression metrics on training and test data for a single model\n",
    "Metrics to be considered:\n",
    "- RMSE\n",
    "- R2 score"
   ]
  },
  {
   "cell_type": "code",
   "execution_count": 11,
   "id": "c74ef949",
   "metadata": {},
   "outputs": [],
   "source": [
    "def calculate_regression_metrics(\n",
    "    model_name, training_actual, training_predictions, test_actual, test_predictions\n",
    "):\n",
    "    \"\"\"Calculate regression metrics on training and test data\"\"\"\n",
    "    # Calculate training metrics\n",
    "    training_r2 = r2_score(training_actual, training_predictions)\n",
    "    training_rmse = np.sqrt(mean_squared_error(training_actual, training_predictions))\n",
    "\n",
    "    # Calculate test metrics\n",
    "    test_r2 = r2_score(test_actual, test_predictions)\n",
    "    test_rmse = np.sqrt(mean_squared_error(test_actual, test_predictions))\n",
    "\n",
    "    return pd.DataFrame(\n",
    "        {\n",
    "            f\"{model_name} (Training)\": {\"R2\": training_r2, \"RMSE\": training_rmse},\n",
    "            f\"{model_name} (Test)\": {\"R2\": test_r2, \"RMSE\": test_rmse},\n",
    "        }\n",
    "    )\n"
   ]
  },
  {
   "cell_type": "markdown",
   "id": "3a58ee24",
   "metadata": {},
   "source": [
    "### Plot regression coefficients for a single model"
   ]
  },
  {
   "cell_type": "code",
   "execution_count": 12,
   "id": "122e1939",
   "metadata": {},
   "outputs": [],
   "source": [
    "def plot_features_weights(model, weights, feature_names, weights_type=\"c\"):\n",
    "\n",
    "    \"\"\"Plot regression coefficients weights or feature importance.\n",
    "\n",
    "    Args:\n",
    "        model (str): The model name identifier\n",
    "        weights (array): Contains the regression coefficients weights or feature importance\n",
    "        feature_names (list): Contains the corresponding features names\n",
    "        weights_type (str): 'c' for 'coefficients weights', otherwise is 'feature importance'\n",
    "\n",
    "    Returns:\n",
    "        plot of either regression coefficients weights or feature importance\n",
    "\n",
    "\n",
    "    \"\"\"\n",
    "    (px, py) = (8, 10) if len(weights) > 30 else (8, 5)\n",
    "    W = pd.DataFrame({\"Weights\": weights}, feature_names)\n",
    "    W.sort_values(by=\"Weights\", ascending=True).plot(\n",
    "        kind=\"barh\", color=\"r\", figsize=(px, py)\n",
    "    )\n",
    "    label = \" Coefficients\" if weights_type == \"c\" else \" Features Importance\"\n",
    "    plt.xlabel(model + label)\n",
    "    plt.gca().legend_ = None\n"
   ]
  },
  {
   "cell_type": "markdown",
   "id": "d946652b",
   "metadata": {},
   "source": [
    "### Plot residuals for a single model"
   ]
  },
  {
   "cell_type": "code",
   "execution_count": 13,
   "id": "b6603638",
   "metadata": {},
   "outputs": [],
   "source": [
    "def plot_residual(model, y_train, y_train_pred, y_test, y_test_pred):\n",
    "\n",
    "    \"\"\"Print the regression residuals.\n",
    "\n",
    "    Args:\n",
    "        model (str): The model name identifier\n",
    "        y_train (series): The training labels\n",
    "        y_train_pred (series): Predictions on training data\n",
    "        y_test (series): The test labels\n",
    "        y_test_pred (series): Predictions on test data\n",
    "\n",
    "    Returns:\n",
    "        Plot of regression residuals\n",
    "\n",
    "    \"\"\"\n",
    "\n",
    "    plt.scatter(\n",
    "        y_train_pred,\n",
    "        y_train_pred - y_train,\n",
    "        c=\"blue\",\n",
    "        marker=\"o\",\n",
    "        label=\"Training data\",\n",
    "    )\n",
    "    plt.scatter(\n",
    "        y_test_pred, y_test_pred - y_test, c=\"lightgreen\", marker=\"s\", label=\"Test data\"\n",
    "    )\n",
    "    plt.xlabel(\"Predicted Values\")\n",
    "    plt.ylabel(\"Residuals\")\n",
    "    plt.legend(loc=\"upper left\")\n",
    "    plt.hlines(y=0, xmin=-50, xmax=400, color=\"red\", lw=2)\n",
    "    plt.title(model + \" Residuals\")\n",
    "    plt.show()\n"
   ]
  },
  {
   "cell_type": "markdown",
   "id": "86536929",
   "metadata": {},
   "source": [
    "## Linear Regression"
   ]
  },
  {
   "cell_type": "code",
   "execution_count": 14,
   "id": "0d387851",
   "metadata": {},
   "outputs": [],
   "source": [
    "# Linear regression\n",
    "linear_regressor = LinearRegression()\n",
    "training_predictions, test_predictions = train_model_and_predict(\n",
    "    linear_regressor, X_train, y_train, X_test\n",
    ")\n"
   ]
  },
  {
   "cell_type": "code",
   "execution_count": 15,
   "id": "e1fb8ed9",
   "metadata": {},
   "outputs": [
    {
     "data": {
      "text/html": [
       "<div>\n",
       "<style scoped>\n",
       "    .dataframe tbody tr th:only-of-type {\n",
       "        vertical-align: middle;\n",
       "    }\n",
       "\n",
       "    .dataframe tbody tr th {\n",
       "        vertical-align: top;\n",
       "    }\n",
       "\n",
       "    .dataframe thead th {\n",
       "        text-align: right;\n",
       "    }\n",
       "</style>\n",
       "<table border=\"1\" class=\"dataframe\">\n",
       "  <thead>\n",
       "    <tr style=\"text-align: right;\">\n",
       "      <th></th>\n",
       "      <th>Linear Regression (Training)</th>\n",
       "      <th>Linear Regression (Test)</th>\n",
       "    </tr>\n",
       "  </thead>\n",
       "  <tbody>\n",
       "    <tr>\n",
       "      <th>R2</th>\n",
       "      <td>0.530703</td>\n",
       "      <td>0.277052</td>\n",
       "    </tr>\n",
       "    <tr>\n",
       "      <th>RMSE</th>\n",
       "      <td>47.185977</td>\n",
       "      <td>35.333226</td>\n",
       "    </tr>\n",
       "  </tbody>\n",
       "</table>\n",
       "</div>"
      ],
      "text/plain": [
       "      Linear Regression (Training)  Linear Regression (Test)\n",
       "R2                        0.530703                  0.277052\n",
       "RMSE                     47.185977                 35.333226"
      ]
     },
     "execution_count": 15,
     "metadata": {},
     "output_type": "execute_result"
    }
   ],
   "source": [
    "# Calculate metrics\n",
    "linear_regression_metrics = calculate_regression_metrics(\n",
    "    \"Linear Regression\", y_train, training_predictions, y_test, test_predictions\n",
    ")\n",
    "linear_regression_metrics\n"
   ]
  },
  {
   "cell_type": "code",
   "execution_count": 16,
   "id": "ae8d0bc9",
   "metadata": {},
   "outputs": [
    {
     "data": {
      "image/png": "[encoded data removed]",
      "text/plain": [
       "<Figure size 576x360 with 1 Axes>"
      ]
     },
     "metadata": {
      "needs_background": "light"
     },
     "output_type": "display_data"
    }
   ],
   "source": [
    "plot_features_weights(\"Linear Regression\", linear_regressor.coef_, features, \"c\")\n"
   ]
  },
  {
   "cell_type": "code",
   "execution_count": 17,
   "id": "6bd0c839",
   "metadata": {},
   "outputs": [
    {
     "data": {
      "image/png": "[encoded data removed]",
      "text/plain": [
       "<Figure size 432x288 with 1 Axes>"
      ]
     },
     "metadata": {
      "needs_background": "light"
     },
     "output_type": "display_data"
    }
   ],
   "source": [
    "plot_residual(\n",
    "    \"Linear Regression\",\n",
    "    training_data[target],\n",
    "    training_predictions,\n",
    "    test_data[target],\n",
    "    test_predictions,\n",
    ")\n"
   ]
  },
  {
   "cell_type": "markdown",
   "id": "59ecc870",
   "metadata": {},
   "source": [
    "### Lasso Regression"
   ]
  },
  {
   "cell_type": "code",
   "execution_count": 24,
   "id": "176e0c1b",
   "metadata": {},
   "outputs": [
    {
     "name": "stdout",
     "output_type": "stream",
     "text": [
      "The best parameters are {'alpha': 1e-05} with a score of 0.5171158857635609\n"
     ]
    }
   ],
   "source": [
    "# Define hyperparameter space and identify the best hyperparameters\n",
    "grid_space = np.linspace(0.00001, 1, 10)\n",
    "parameters_grid = {\"alpha\": grid_space}\n",
    "tuned_lasso_regressor = tune_hyperparameters(Lasso(), parameters_grid, X_train, y_train)\n"
   ]
  },
  {
   "cell_type": "code",
   "execution_count": 26,
   "id": "0e869d23",
   "metadata": {},
   "outputs": [],
   "source": [
    "# Make predictions on training and test data\n",
    "training_predictions = tuned_lasso_regressor.predict(X_train)\n",
    "test_predictions = tuned_lasso_regressor.predict(X_test)\n"
   ]
  },
  {
   "cell_type": "code",
   "execution_count": 27,
   "id": "86ee22e6",
   "metadata": {},
   "outputs": [
    {
     "data": {
      "text/html": [
       "<div>\n",
       "<style scoped>\n",
       "    .dataframe tbody tr th:only-of-type {\n",
       "        vertical-align: middle;\n",
       "    }\n",
       "\n",
       "    .dataframe tbody tr th {\n",
       "        vertical-align: top;\n",
       "    }\n",
       "\n",
       "    .dataframe thead th {\n",
       "        text-align: right;\n",
       "    }\n",
       "</style>\n",
       "<table border=\"1\" class=\"dataframe\">\n",
       "  <thead>\n",
       "    <tr style=\"text-align: right;\">\n",
       "      <th></th>\n",
       "      <th>Lasso Regression (Training)</th>\n",
       "      <th>Lasso Regression (Test)</th>\n",
       "    </tr>\n",
       "  </thead>\n",
       "  <tbody>\n",
       "    <tr>\n",
       "      <th>R2</th>\n",
       "      <td>0.530703</td>\n",
       "      <td>0.277052</td>\n",
       "    </tr>\n",
       "    <tr>\n",
       "      <th>RMSE</th>\n",
       "      <td>47.185977</td>\n",
       "      <td>35.333227</td>\n",
       "    </tr>\n",
       "  </tbody>\n",
       "</table>\n",
       "</div>"
      ],
      "text/plain": [
       "      Lasso Regression (Training)  Lasso Regression (Test)\n",
       "R2                       0.530703                 0.277052\n",
       "RMSE                    47.185977                35.333227"
      ]
     },
     "execution_count": 27,
     "metadata": {},
     "output_type": "execute_result"
    }
   ],
   "source": [
    "# Calculate metrics\n",
    "lasso_regression_metrics = calculate_regression_metrics(\n",
    "    \"Lasso Regression\", y_train, training_predictions, y_test, test_predictions\n",
    ")\n",
    "lasso_regression_metrics\n"
   ]
  },
  {
   "cell_type": "code",
   "execution_count": 28,
   "id": "817ead5d",
   "metadata": {},
   "outputs": [
    {
     "data": {
      "image/png": "[encoded data removed]",
      "text/plain": [
       "<Figure size 576x360 with 1 Axes>"
      ]
     },
     "metadata": {
      "needs_background": "light"
     },
     "output_type": "display_data"
    }
   ],
   "source": [
    "plot_features_weights(\"Lasso Regression\", tuned_lasso_regressor.coef_, features, \"c\")\n"
   ]
  },
  {
   "cell_type": "code",
   "execution_count": 30,
   "id": "0720a618",
   "metadata": {},
   "outputs": [
    {
     "data": {
      "image/png": "[encoded data removed]",
      "text/plain": [
       "<Figure size 432x288 with 1 Axes>"
      ]
     },
     "metadata": {
      "needs_background": "light"
     },
     "output_type": "display_data"
    }
   ],
   "source": [
    "plot_residual(\n",
    "    \"Lasso Regression\", y_train, training_predictions, y_test, test_predictions\n",
    ")\n"
   ]
  },
  {
   "cell_type": "markdown",
   "id": "3e1b00a8",
   "metadata": {},
   "source": [
    "### Ridge Regression"
   ]
  },
  {
   "cell_type": "code",
   "execution_count": 31,
   "id": "d1a0f203",
   "metadata": {},
   "outputs": [
    {
     "name": "stdout",
     "output_type": "stream",
     "text": [
      "The best parameters are {'alpha': 10} with a score of 0.5171209171741322\n"
     ]
    }
   ],
   "source": [
    "# Perform grid search for Ridge regression\n",
    "alpha_space = [0.001, 0.01, 0.1, 1, 10]\n",
    "parameters_grid = {\"alpha\": alpha_space}\n",
    "tuned_ridge_regressor = tune_hyperparameters(Ridge(), parameters_grid, X_train, y_train)\n"
   ]
  },
  {
   "cell_type": "code",
   "execution_count": 33,
   "id": "0fb279c0",
   "metadata": {},
   "outputs": [],
   "source": [
    "# Make predictions on training and test data\n",
    "training_predictions = tuned_ridge_regressor.predict(X_train)\n",
    "test_predictions = tuned_ridge_regressor.predict(X_test)\n"
   ]
  },
  {
   "cell_type": "code",
   "execution_count": 34,
   "id": "1c78adc8",
   "metadata": {},
   "outputs": [
    {
     "data": {
      "text/html": [
       "<div>\n",
       "<style scoped>\n",
       "    .dataframe tbody tr th:only-of-type {\n",
       "        vertical-align: middle;\n",
       "    }\n",
       "\n",
       "    .dataframe tbody tr th {\n",
       "        vertical-align: top;\n",
       "    }\n",
       "\n",
       "    .dataframe thead th {\n",
       "        text-align: right;\n",
       "    }\n",
       "</style>\n",
       "<table border=\"1\" class=\"dataframe\">\n",
       "  <thead>\n",
       "    <tr style=\"text-align: right;\">\n",
       "      <th></th>\n",
       "      <th>Ridge Regression (Training)</th>\n",
       "      <th>Ridge Regression (Test)</th>\n",
       "    </tr>\n",
       "  </thead>\n",
       "  <tbody>\n",
       "    <tr>\n",
       "      <th>R2</th>\n",
       "      <td>0.530687</td>\n",
       "      <td>0.276352</td>\n",
       "    </tr>\n",
       "    <tr>\n",
       "      <th>RMSE</th>\n",
       "      <td>47.186737</td>\n",
       "      <td>35.350329</td>\n",
       "    </tr>\n",
       "  </tbody>\n",
       "</table>\n",
       "</div>"
      ],
      "text/plain": [
       "      Ridge Regression (Training)  Ridge Regression (Test)\n",
       "R2                       0.530687                 0.276352\n",
       "RMSE                    47.186737                35.350329"
      ]
     },
     "execution_count": 34,
     "metadata": {},
     "output_type": "execute_result"
    }
   ],
   "source": [
    "# Calculate metrics\n",
    "ridge_regression_metrics = calculate_regression_metrics(\n",
    "    \"Ridge Regression\", y_train, training_predictions, y_test, test_predictions\n",
    ")\n",
    "ridge_regression_metrics\n"
   ]
  },
  {
   "cell_type": "code",
   "execution_count": 35,
   "id": "19210a6d",
   "metadata": {},
   "outputs": [
    {
     "data": {
      "image/png": "[encoded data removed]",
      "text/plain": [
       "<Figure size 576x360 with 1 Axes>"
      ]
     },
     "metadata": {
      "needs_background": "light"
     },
     "output_type": "display_data"
    }
   ],
   "source": [
    "# Plot features weights\n",
    "plot_features_weights(\"Ridge Regression\", tuned_ridge_regressor.coef_, features, \"c\")\n"
   ]
  },
  {
   "cell_type": "code",
   "execution_count": 36,
   "id": "a9c9788b",
   "metadata": {},
   "outputs": [
    {
     "data": {
      "image/png": "[encoded data removed]",
      "text/plain": [
       "<Figure size 432x288 with 1 Axes>"
      ]
     },
     "metadata": {
      "needs_background": "light"
     },
     "output_type": "display_data"
    }
   ],
   "source": [
    "# Plot residuals\n",
    "plot_residual(\n",
    "    \"Ridge Regression\", y_train, training_predictions, y_test, test_predictions\n",
    ")\n"
   ]
  },
  {
   "cell_type": "markdown",
   "id": "0f8c049a",
   "metadata": {},
   "source": [
    "## Elastic Net Regression"
   ]
  },
  {
   "cell_type": "code",
   "execution_count": 37,
   "id": "735b942a",
   "metadata": {},
   "outputs": [
    {
     "name": "stdout",
     "output_type": "stream",
     "text": [
      "The best parameters are {'alpha': 0.001, 'l1_ratio': 0.6} with a score of 0.5171247818488915\n"
     ]
    }
   ],
   "source": [
    "# Perform grid search for Elastic Net regression\n",
    "alpha_space = [0.001, 0.05, 0.1]\n",
    "l1_ratio_space = [0.5, 0.6, 0.9]\n",
    "parameters_grid = {\"alpha\": alpha_space, \"l1_ratio\": l1_ratio_space}\n",
    "tuned_elastic_net_regressor = tune_hyperparameters(\n",
    "    ElasticNet(), parameters_grid, X_train, y_train\n",
    ")\n"
   ]
  },
  {
   "cell_type": "code",
   "execution_count": 38,
   "id": "b8955a2b",
   "metadata": {},
   "outputs": [],
   "source": [
    "# Make predictions on training and test data\n",
    "training_predictions = tuned_elastic_net_regressor.predict(X_train)\n",
    "test_predictions = tuned_elastic_net_regressor.predict(X_test)\n"
   ]
  },
  {
   "cell_type": "code",
   "execution_count": 39,
   "id": "4c2de367",
   "metadata": {},
   "outputs": [
    {
     "data": {
      "text/html": [
       "<div>\n",
       "<style scoped>\n",
       "    .dataframe tbody tr th:only-of-type {\n",
       "        vertical-align: middle;\n",
       "    }\n",
       "\n",
       "    .dataframe tbody tr th {\n",
       "        vertical-align: top;\n",
       "    }\n",
       "\n",
       "    .dataframe thead th {\n",
       "        text-align: right;\n",
       "    }\n",
       "</style>\n",
       "<table border=\"1\" class=\"dataframe\">\n",
       "  <thead>\n",
       "    <tr style=\"text-align: right;\">\n",
       "      <th></th>\n",
       "      <th>Elastic Net Regression (Training)</th>\n",
       "      <th>Elastic Net Regression (Test)</th>\n",
       "    </tr>\n",
       "  </thead>\n",
       "  <tbody>\n",
       "    <tr>\n",
       "      <th>R2</th>\n",
       "      <td>0.530692</td>\n",
       "      <td>0.276469</td>\n",
       "    </tr>\n",
       "    <tr>\n",
       "      <th>RMSE</th>\n",
       "      <td>47.186516</td>\n",
       "      <td>35.347480</td>\n",
       "    </tr>\n",
       "  </tbody>\n",
       "</table>\n",
       "</div>"
      ],
      "text/plain": [
       "      Elastic Net Regression (Training)  Elastic Net Regression (Test)\n",
       "R2                             0.530692                       0.276469\n",
       "RMSE                          47.186516                      35.347480"
      ]
     },
     "execution_count": 39,
     "metadata": {},
     "output_type": "execute_result"
    }
   ],
   "source": [
    "# Calculate metrics\n",
    "elastic_net_regression_metrics = calculate_regression_metrics(\n",
    "    \"Elastic Net Regression\", y_train, training_predictions, y_test, test_predictions\n",
    ")\n",
    "elastic_net_regression_metrics\n"
   ]
  },
  {
   "cell_type": "markdown",
   "id": "4f139342",
   "metadata": {},
   "source": [
    "## Polynomial Regression"
   ]
  },
  {
   "cell_type": "code",
   "execution_count": 40,
   "id": "83491bce",
   "metadata": {},
   "outputs": [],
   "source": [
    "# Perform search for best degree of polynomial regression\n",
    "degree_space = [2, 3, 4, 5]\n",
    "best_score = 0\n",
    "best_degree = 0\n",
    "\n",
    "for degree in degree_space:\n",
    "    poly_features = PolynomialFeatures(degree=degree)\n",
    "    X_train_poly = poly_features.fit_transform(training_data[features])\n",
    "    polynomial_regressor = LinearRegression()\n",
    "    polynomial_regressor.fit(X_train_poly, training_data[target])\n",
    "    scores = cross_val_score(\n",
    "        polynomial_regressor, X_train_poly, training_data[target], cv=5\n",
    "    )  # Change k-fold cv value here\n",
    "    if np.mean(scores) > best_score:\n",
    "        best_score = np.mean(scores)\n",
    "        best_degree = degree\n"
   ]
  },
  {
   "cell_type": "code",
   "execution_count": 41,
   "id": "ec40656c",
   "metadata": {},
   "outputs": [
    {
     "data": {
      "text/plain": [
       "5"
      ]
     },
     "execution_count": 41,
     "metadata": {},
     "output_type": "execute_result"
    }
   ],
   "source": [
    "best_degree\n"
   ]
  },
  {
   "cell_type": "code",
   "execution_count": 46,
   "id": "a1d68101",
   "metadata": {},
   "outputs": [],
   "source": [
    "# Create polynomial features\n",
    "poly_features = PolynomialFeatures(degree=5)\n",
    "X_train_poly = poly_features.fit_transform(training_data[features])\n",
    "X_test_poly = poly_features.fit_transform(test_data[features])\n"
   ]
  },
  {
   "cell_type": "code",
   "execution_count": 47,
   "id": "ae162dbb",
   "metadata": {},
   "outputs": [],
   "source": [
    "# Fit polynomial regression model and make predictions\n",
    "polynomial_regressor = LinearRegression()\n",
    "training_predictions, test_predictions = train_model_and_predict(\n",
    "    polynomial_regressor, X_train_poly, training_data[target], X_test_poly\n",
    ")\n"
   ]
  },
  {
   "cell_type": "code",
   "execution_count": 49,
   "id": "4ef8b9eb",
   "metadata": {},
   "outputs": [
    {
     "data": {
      "text/html": [
       "<div>\n",
       "<style scoped>\n",
       "    .dataframe tbody tr th:only-of-type {\n",
       "        vertical-align: middle;\n",
       "    }\n",
       "\n",
       "    .dataframe tbody tr th {\n",
       "        vertical-align: top;\n",
       "    }\n",
       "\n",
       "    .dataframe thead th {\n",
       "        text-align: right;\n",
       "    }\n",
       "</style>\n",
       "<table border=\"1\" class=\"dataframe\">\n",
       "  <thead>\n",
       "    <tr style=\"text-align: right;\">\n",
       "      <th></th>\n",
       "      <th>Polynomial Regression (Training)</th>\n",
       "      <th>Polynomial Regression (Test)</th>\n",
       "    </tr>\n",
       "  </thead>\n",
       "  <tbody>\n",
       "    <tr>\n",
       "      <th>R2</th>\n",
       "      <td>0.543588</td>\n",
       "      <td>0.278474</td>\n",
       "    </tr>\n",
       "    <tr>\n",
       "      <th>RMSE</th>\n",
       "      <td>46.533656</td>\n",
       "      <td>35.298458</td>\n",
       "    </tr>\n",
       "  </tbody>\n",
       "</table>\n",
       "</div>"
      ],
      "text/plain": [
       "      Polynomial Regression (Training)  Polynomial Regression (Test)\n",
       "R2                            0.543588                      0.278474\n",
       "RMSE                         46.533656                     35.298458"
      ]
     },
     "execution_count": 49,
     "metadata": {},
     "output_type": "execute_result"
    }
   ],
   "source": [
    "# Calculate metrics\n",
    "polynomial_regression_metrics = calculate_regression_metrics(\n",
    "    \"Polynomial Regression\", y_train, training_predictions, y_test, test_predictions\n",
    ")\n",
    "polynomial_regression_metrics\n"
   ]
  },
  {
   "cell_type": "code",
   "execution_count": 51,
   "id": "8d2a71a5",
   "metadata": {},
   "outputs": [
    {
     "data": {
      "image/png": "[encoded data removed]",
      "text/plain": [
       "<Figure size 432x288 with 1 Axes>"
      ]
     },
     "metadata": {
      "needs_background": "light"
     },
     "output_type": "display_data"
    }
   ],
   "source": [
    "plot_residual(\n",
    "    \"Polynomial Regression\", y_train, training_predictions, y_test, test_predictions\n",
    ")\n"
   ]
  },
  {
   "cell_type": "markdown",
   "id": "3ecfd8b1",
   "metadata": {},
   "source": [
    "## Decision Tree Regression"
   ]
  },
  {
   "cell_type": "code",
   "execution_count": 53,
   "id": "1a5a44d4",
   "metadata": {},
   "outputs": [
    {
     "name": "stdout",
     "output_type": "stream",
     "text": [
      "The best parameters are {'max_depth': 6} with a score of 0.5006656819431712\n"
     ]
    }
   ],
   "source": [
    "# Perform grid search for Decision Tree regression\n",
    "parameters_grid = {\"max_depth\": [4, 5, 6, 7, 8, 9]}\n",
    "decision_tree_regressor = tune_hyperparameters(\n",
    "    DecisionTreeRegressor(), parameters_grid, X_train, y_train\n",
    ")\n"
   ]
  },
  {
   "cell_type": "code",
   "execution_count": 54,
   "id": "ed18e763",
   "metadata": {},
   "outputs": [],
   "source": [
    "# Make predictions on training and test data\n",
    "training_predictions = decision_tree_regressor.predict(X_train)\n",
    "test_predictions = decision_tree_regressor.predict(X_test)\n"
   ]
  },
  {
   "cell_type": "code",
   "execution_count": 55,
   "id": "436b1811",
   "metadata": {},
   "outputs": [
    {
     "data": {
      "text/html": [
       "<div>\n",
       "<style scoped>\n",
       "    .dataframe tbody tr th:only-of-type {\n",
       "        vertical-align: middle;\n",
       "    }\n",
       "\n",
       "    .dataframe tbody tr th {\n",
       "        vertical-align: top;\n",
       "    }\n",
       "\n",
       "    .dataframe thead th {\n",
       "        text-align: right;\n",
       "    }\n",
       "</style>\n",
       "<table border=\"1\" class=\"dataframe\">\n",
       "  <thead>\n",
       "    <tr style=\"text-align: right;\">\n",
       "      <th></th>\n",
       "      <th>Decision Tree Regression (Training)</th>\n",
       "      <th>Decision Tree Regression (Test)</th>\n",
       "    </tr>\n",
       "  </thead>\n",
       "  <tbody>\n",
       "    <tr>\n",
       "      <th>R2</th>\n",
       "      <td>0.545733</td>\n",
       "      <td>0.233683</td>\n",
       "    </tr>\n",
       "    <tr>\n",
       "      <th>RMSE</th>\n",
       "      <td>46.424204</td>\n",
       "      <td>36.377606</td>\n",
       "    </tr>\n",
       "  </tbody>\n",
       "</table>\n",
       "</div>"
      ],
      "text/plain": [
       "      Decision Tree Regression (Training)  Decision Tree Regression (Test)\n",
       "R2                               0.545733                         0.233683\n",
       "RMSE                            46.424204                        36.377606"
      ]
     },
     "execution_count": 55,
     "metadata": {},
     "output_type": "execute_result"
    }
   ],
   "source": [
    "# Calculate metrics\n",
    "decision_tree_regression_metrics = calculate_regression_metrics(\n",
    "    \"Decision Tree Regression\", y_train, training_predictions, y_test, test_predictions\n",
    ")\n",
    "decision_tree_regression_metrics\n"
   ]
  },
  {
   "cell_type": "code",
   "execution_count": 58,
   "id": "856ece65",
   "metadata": {},
   "outputs": [
    {
     "data": {
      "image/png": "[encoded data removed]",
      "text/plain": [
       "<Figure size 576x360 with 1 Axes>"
      ]
     },
     "metadata": {
      "needs_background": "light"
     },
     "output_type": "display_data"
    }
   ],
   "source": [
    "# Plot features weights\n",
    "plot_features_weights(\n",
    "    \"Decision Tree Regression\",\n",
    "    decision_tree_regressor.feature_importances_,\n",
    "    features,\n",
    "    \"t\",\n",
    ")\n"
   ]
  },
  {
   "cell_type": "code",
   "execution_count": 57,
   "id": "50310792",
   "metadata": {},
   "outputs": [
    {
     "data": {
      "image/png": "[encoded data removed]",
      "text/plain": [
       "<Figure size 432x288 with 1 Axes>"
      ]
     },
     "metadata": {
      "needs_background": "light"
     },
     "output_type": "display_data"
    }
   ],
   "source": [
    "# Plot residuals\n",
    "plot_residual(\n",
    "    \"Decision Tree Regression\", y_train, training_predictions, y_test, test_predictions\n",
    ")\n"
   ]
  },
  {
   "cell_type": "markdown",
   "id": "79f741ad",
   "metadata": {},
   "source": [
    "## Random Forest Regression"
   ]
  },
  {
   "cell_type": "code",
   "execution_count": 63,
   "id": "b761b682",
   "metadata": {},
   "outputs": [
    {
     "name": "stderr",
     "output_type": "stream",
     "text": [
      "/Users/tanmayk/.pyenv/versions/3.9.1/envs/SLM-Code/lib/python3.9/site-packages/sklearn/model_selection/_validation.py:379: FitFailedWarning: \n",
      "150 fits failed out of a total of 600.\n",
      "The score on these train-test partitions for these parameters will be set to nan.\n",
      "If these failures are not expected, you can try to debug them by setting error_score='raise'.\n",
      "\n",
      "Below are more details about the failures:\n",
      "--------------------------------------------------------------------------------\n",
      "150 fits failed with the following error:\n",
      "Traceback (most recent call last):\n",
      "  File \"/Users/tanmayk/.pyenv/versions/3.9.1/envs/SLM-Code/lib/python3.9/site-packages/sklearn/model_selection/_validation.py\", line 688, in _fit_and_score\n",
      "    estimator.fit(X_train, y_train, **fit_params)\n",
      "  File \"/Users/tanmayk/.pyenv/versions/3.9.1/envs/SLM-Code/lib/python3.9/site-packages/sklearn/ensemble/_forest.py\", line 441, in fit\n",
      "    trees = Parallel(\n",
      "  File \"/Users/tanmayk/.pyenv/versions/3.9.1/envs/SLM-Code/lib/python3.9/site-packages/joblib/parallel.py\", line 1043, in __call__\n",
      "    if self.dispatch_one_batch(iterator):\n",
      "  File \"/Users/tanmayk/.pyenv/versions/3.9.1/envs/SLM-Code/lib/python3.9/site-packages/joblib/parallel.py\", line 861, in dispatch_one_batch\n",
      "    self._dispatch(tasks)\n",
      "  File \"/Users/tanmayk/.pyenv/versions/3.9.1/envs/SLM-Code/lib/python3.9/site-packages/joblib/parallel.py\", line 779, in _dispatch\n",
      "    job = self._backend.apply_async(batch, callback=cb)\n",
      "  File \"/Users/tanmayk/.pyenv/versions/3.9.1/envs/SLM-Code/lib/python3.9/site-packages/joblib/_parallel_backends.py\", line 208, in apply_async\n",
      "    result = ImmediateResult(func)\n",
      "  File \"/Users/tanmayk/.pyenv/versions/3.9.1/envs/SLM-Code/lib/python3.9/site-packages/joblib/_parallel_backends.py\", line 572, in __init__\n",
      "    self.results = batch()\n",
      "  File \"/Users/tanmayk/.pyenv/versions/3.9.1/envs/SLM-Code/lib/python3.9/site-packages/joblib/parallel.py\", line 262, in __call__\n",
      "    return [func(*args, **kwargs)\n",
      "  File \"/Users/tanmayk/.pyenv/versions/3.9.1/envs/SLM-Code/lib/python3.9/site-packages/joblib/parallel.py\", line 262, in <listcomp>\n",
      "    return [func(*args, **kwargs)\n",
      "  File \"/Users/tanmayk/.pyenv/versions/3.9.1/envs/SLM-Code/lib/python3.9/site-packages/sklearn/utils/fixes.py\", line 211, in __call__\n",
      "    return self.function(*args, **kwargs)\n",
      "  File \"/Users/tanmayk/.pyenv/versions/3.9.1/envs/SLM-Code/lib/python3.9/site-packages/sklearn/ensemble/_forest.py\", line 184, in _parallel_build_trees\n",
      "    tree.fit(X, y, sample_weight=curr_sample_weight, check_input=False)\n",
      "  File \"/Users/tanmayk/.pyenv/versions/3.9.1/envs/SLM-Code/lib/python3.9/site-packages/sklearn/tree/_classes.py\", line 1315, in fit\n",
      "    super().fit(\n",
      "  File \"/Users/tanmayk/.pyenv/versions/3.9.1/envs/SLM-Code/lib/python3.9/site-packages/sklearn/tree/_classes.py\", line 308, in fit\n",
      "    raise ValueError(\"max_features must be in (0, n_features]\")\n",
      "ValueError: max_features must be in (0, n_features]\n",
      "\n",
      "  warnings.warn(some_fits_failed_message, FitFailedWarning)\n",
      "/Users/tanmayk/.pyenv/versions/3.9.1/envs/SLM-Code/lib/python3.9/site-packages/sklearn/model_selection/_search.py:969: UserWarning: One or more of the test scores are non-finite: [0.51755515 0.51689214 0.51752952 0.51712271 0.51733246 0.51442997\n",
      " 0.51450533 0.51373013 0.51454823 0.51426175 0.51046131 0.51092463\n",
      " 0.51100232 0.51047467 0.51048696        nan        nan        nan\n",
      "        nan        nan 0.51964701 0.51927262 0.51922152 0.51979406\n",
      " 0.51963299 0.51770351 0.51784532 0.51807014 0.51763578 0.51745889\n",
      " 0.51593848 0.51548311 0.51552237 0.51608027 0.51599996        nan\n",
      "        nan        nan        nan        nan 0.51997964 0.51985934\n",
      " 0.51938778 0.51959112 0.5200725  0.51819012 0.51840119 0.51810701\n",
      " 0.51850498 0.51852699 0.51623839 0.51687037 0.5173525  0.51681741\n",
      " 0.51706905        nan        nan        nan        nan        nan\n",
      " 0.51953087 0.51879902 0.51924781 0.51905296 0.5189105  0.51769287\n",
      " 0.51686264 0.51750658 0.51708101 0.51751756 0.51659335 0.51622985\n",
      " 0.51638926 0.51642539 0.5160721         nan        nan        nan\n",
      "        nan        nan 0.51733495 0.51730767 0.51776656 0.51808769\n",
      " 0.51734374 0.51501675 0.51678957 0.51558108 0.51591632 0.515486\n",
      " 0.51486173 0.51482398 0.51532581 0.51482131 0.51492449        nan\n",
      "        nan        nan        nan        nan 0.51547906 0.51589536\n",
      " 0.51551429 0.51579435 0.51616666 0.51305458 0.51465216 0.51350984\n",
      " 0.51450367 0.5139174  0.51288565 0.51229759 0.51280392 0.51302544\n",
      " 0.51248743        nan        nan        nan        nan        nan]\n",
      "  warnings.warn(\n"
     ]
    },
    {
     "name": "stdout",
     "output_type": "stream",
     "text": [
      "The best parameters are {'max_depth': 6, 'max_features': 2, 'n_estimators': 100} with a score of 0.520072504508669\n"
     ]
    }
   ],
   "source": [
    "# Perform grid search for Random Forest regression\n",
    "estimators_space = [60, 70, 80, 90, 100]\n",
    "features_space = [2, 3, 4, 5]\n",
    "depth_space = [4, 5, 6, 7, 8, 9]\n",
    "\n",
    "parameters_grid = {\n",
    "    \"n_estimators\": estimators_space,\n",
    "    \"max_features\": features_space,\n",
    "    \"max_depth\": depth_space,\n",
    "}\n",
    "random_forest_regressor = tune_hyperparameters(\n",
    "    RandomForestRegressor(), parameters_grid, X_train, y_train\n",
    ")\n"
   ]
  },
  {
   "cell_type": "code",
   "execution_count": 69,
   "id": "dabfb11d",
   "metadata": {},
   "outputs": [
    {
     "data": {
      "text/plain": [
       "RandomForestRegressor(max_depth=4, max_features=3)"
      ]
     },
     "execution_count": 69,
     "metadata": {},
     "output_type": "execute_result"
    }
   ],
   "source": [
    "# Test random forest model\n",
    "random_forest_regressor = RandomForestRegressor(\n",
    "    n_estimators=100, max_features=3, max_depth=4\n",
    ")\n",
    "random_forest_regressor.fit(X_train, y_train)\n"
   ]
  },
  {
   "cell_type": "code",
   "execution_count": 70,
   "id": "e4d48da3",
   "metadata": {},
   "outputs": [],
   "source": [
    "# Make predictions on training and test data\n",
    "training_predictions = random_forest_regressor.predict(X_train)\n",
    "test_predictions = random_forest_regressor.predict(X_test)\n"
   ]
  },
  {
   "cell_type": "code",
   "execution_count": 65,
   "id": "01d4da38",
   "metadata": {},
   "outputs": [
    {
     "data": {
      "text/html": [
       "<div>\n",
       "<style scoped>\n",
       "    .dataframe tbody tr th:only-of-type {\n",
       "        vertical-align: middle;\n",
       "    }\n",
       "\n",
       "    .dataframe tbody tr th {\n",
       "        vertical-align: top;\n",
       "    }\n",
       "\n",
       "    .dataframe thead th {\n",
       "        text-align: right;\n",
       "    }\n",
       "</style>\n",
       "<table border=\"1\" class=\"dataframe\">\n",
       "  <thead>\n",
       "    <tr style=\"text-align: right;\">\n",
       "      <th></th>\n",
       "      <th>Random Forest Regression (Training)</th>\n",
       "      <th>Random Forest Regression (Test)</th>\n",
       "    </tr>\n",
       "  </thead>\n",
       "  <tbody>\n",
       "    <tr>\n",
       "      <th>R2</th>\n",
       "      <td>0.555365</td>\n",
       "      <td>0.302544</td>\n",
       "    </tr>\n",
       "    <tr>\n",
       "      <th>RMSE</th>\n",
       "      <td>45.929375</td>\n",
       "      <td>34.704698</td>\n",
       "    </tr>\n",
       "  </tbody>\n",
       "</table>\n",
       "</div>"
      ],
      "text/plain": [
       "      Random Forest Regression (Training)  Random Forest Regression (Test)\n",
       "R2                               0.555365                         0.302544\n",
       "RMSE                            45.929375                        34.704698"
      ]
     },
     "execution_count": 65,
     "metadata": {},
     "output_type": "execute_result"
    }
   ],
   "source": [
    "# Calculate metrics\n",
    "random_forest_regression_metrics = calculate_regression_metrics(\n",
    "    \"Random Forest Regression\", y_train, training_predictions, y_test, test_predictions\n",
    ")\n",
    "random_forest_regression_metrics\n"
   ]
  },
  {
   "cell_type": "code",
   "execution_count": 71,
   "id": "01d4da38",
   "metadata": {},
   "outputs": [
    {
     "data": {
      "text/html": [
       "<div>\n",
       "<style scoped>\n",
       "    .dataframe tbody tr th:only-of-type {\n",
       "        vertical-align: middle;\n",
       "    }\n",
       "\n",
       "    .dataframe tbody tr th {\n",
       "        vertical-align: top;\n",
       "    }\n",
       "\n",
       "    .dataframe thead th {\n",
       "        text-align: right;\n",
       "    }\n",
       "</style>\n",
       "<table border=\"1\" class=\"dataframe\">\n",
       "  <thead>\n",
       "    <tr style=\"text-align: right;\">\n",
       "      <th></th>\n",
       "      <th>Random Forest Regression (Training)</th>\n",
       "      <th>Random Forest Regression (Test)</th>\n",
       "    </tr>\n",
       "  </thead>\n",
       "  <tbody>\n",
       "    <tr>\n",
       "      <th>R2</th>\n",
       "      <td>0.539903</td>\n",
       "      <td>0.310415</td>\n",
       "    </tr>\n",
       "    <tr>\n",
       "      <th>RMSE</th>\n",
       "      <td>46.721170</td>\n",
       "      <td>34.508307</td>\n",
       "    </tr>\n",
       "  </tbody>\n",
       "</table>\n",
       "</div>"
      ],
      "text/plain": [
       "      Random Forest Regression (Training)  Random Forest Regression (Test)\n",
       "R2                               0.539903                         0.310415\n",
       "RMSE                            46.721170                        34.508307"
      ]
     },
     "execution_count": 71,
     "metadata": {},
     "output_type": "execute_result"
    }
   ],
   "source": [
    "# Calculate metrics\n",
    "random_forest_regression_metrics = calculate_regression_metrics(\n",
    "    \"Random Forest Regression\", y_train, training_predictions, y_test, test_predictions\n",
    ")\n",
    "random_forest_regression_metrics\n"
   ]
  },
  {
   "cell_type": "code",
   "execution_count": 72,
   "id": "00f60607",
   "metadata": {},
   "outputs": [
    {
     "data": {
      "image/png": "[encoded data removed]",
      "text/plain": [
       "<Figure size 576x360 with 1 Axes>"
      ]
     },
     "metadata": {
      "needs_background": "light"
     },
     "output_type": "display_data"
    }
   ],
   "source": [
    "# Plot features weights\n",
    "plot_features_weights(\n",
    "    \"Random Forest Regression\",\n",
    "    random_forest_regressor.feature_importances_,\n",
    "    features,\n",
    "    \"t\",\n",
    ")\n"
   ]
  },
  {
   "cell_type": "code",
   "execution_count": 73,
   "id": "d1ff273f",
   "metadata": {},
   "outputs": [
    {
     "data": {
      "image/png": "[encoded data removed]",
      "text/plain": [
       "<Figure size 432x288 with 1 Axes>"
      ]
     },
     "metadata": {
      "needs_background": "light"
     },
     "output_type": "display_data"
    }
   ],
   "source": [
    "# Plot residuals\n",
    "plot_residual(\n",
    "    \"Random Forest Regression\", y_train, training_predictions, y_test, test_predictions\n",
    ")\n"
   ]
  },
  {
   "cell_type": "markdown",
   "id": "b0c0e256",
   "metadata": {},
   "source": [
    "### Support Vector Regression"
   ]
  },
  {
   "cell_type": "code",
   "execution_count": 91,
   "id": "b8cc355d",
   "metadata": {},
   "outputs": [],
   "source": [
    "# Define SVR model\n",
    "svr_regressor = SVR(kernel=\"linear\")\n",
    "\n",
    "# Fit SVR model and make predictions\n",
    "training_predictions, test_predictions = train_model_and_predict(\n",
    "    svr_regressor, X_train, y_train, X_test\n",
    ")\n"
   ]
  },
  {
   "cell_type": "code",
   "execution_count": 92,
   "id": "db3483c0",
   "metadata": {},
   "outputs": [
    {
     "data": {
      "text/html": [
       "<div>\n",
       "<style scoped>\n",
       "    .dataframe tbody tr th:only-of-type {\n",
       "        vertical-align: middle;\n",
       "    }\n",
       "\n",
       "    .dataframe tbody tr th {\n",
       "        vertical-align: top;\n",
       "    }\n",
       "\n",
       "    .dataframe thead th {\n",
       "        text-align: right;\n",
       "    }\n",
       "</style>\n",
       "<table border=\"1\" class=\"dataframe\">\n",
       "  <thead>\n",
       "    <tr style=\"text-align: right;\">\n",
       "      <th></th>\n",
       "      <th>SVR Regression (Training)</th>\n",
       "      <th>SVR Regression (Test)</th>\n",
       "    </tr>\n",
       "  </thead>\n",
       "  <tbody>\n",
       "    <tr>\n",
       "      <th>R2</th>\n",
       "      <td>0.635436</td>\n",
       "      <td>0.499981</td>\n",
       "    </tr>\n",
       "    <tr>\n",
       "      <th>RMSE</th>\n",
       "      <td>41.588764</td>\n",
       "      <td>29.384824</td>\n",
       "    </tr>\n",
       "  </tbody>\n",
       "</table>\n",
       "</div>"
      ],
      "text/plain": [
       "      SVR Regression (Training)  SVR Regression (Test)\n",
       "R2                     0.635436               0.499981\n",
       "RMSE                  41.588764              29.384824"
      ]
     },
     "execution_count": 92,
     "metadata": {},
     "output_type": "execute_result"
    }
   ],
   "source": [
    "# Calculate metrics\n",
    "svr_regression_metrics = calculate_regression_metrics(\n",
    "    \"SVR Regression\", y_train, training_predictions, y_test, test_predictions\n",
    ")\n",
    "svr_regression_metrics\n"
   ]
  },
  {
   "cell_type": "code",
   "execution_count": 88,
   "id": "aaa764cd",
   "metadata": {},
   "outputs": [
    {
     "data": {
      "image/png": "[encoded data removed]",
      "text/plain": [
       "<Figure size 432x288 with 1 Axes>"
      ]
     },
     "metadata": {
      "needs_background": "light"
     },
     "output_type": "display_data"
    }
   ],
   "source": [
    "# Plot residuals\n",
    "plot_residual(\"SVR Regression\", y_train, training_predictions, y_test, test_predictions)\n"
   ]
  },
  {
   "cell_type": "markdown",
   "id": "167c01f7",
   "metadata": {},
   "source": [
    "## Comparison of Regression Algorithms"
   ]
  },
  {
   "cell_type": "code",
   "execution_count": 93,
   "id": "f8c74596",
   "metadata": {},
   "outputs": [
    {
     "data": {
      "text/html": [
       "<div>\n",
       "<style scoped>\n",
       "    .dataframe tbody tr th:only-of-type {\n",
       "        vertical-align: middle;\n",
       "    }\n",
       "\n",
       "    .dataframe tbody tr th {\n",
       "        vertical-align: top;\n",
       "    }\n",
       "\n",
       "    .dataframe thead th {\n",
       "        text-align: right;\n",
       "    }\n",
       "</style>\n",
       "<table border=\"1\" class=\"dataframe\">\n",
       "  <thead>\n",
       "    <tr style=\"text-align: right;\">\n",
       "      <th></th>\n",
       "      <th>Linear Regression (Test)</th>\n",
       "      <th>Ridge Regression (Test)</th>\n",
       "      <th>Lasso Regression (Test)</th>\n",
       "      <th>Elastic Net Regression (Test)</th>\n",
       "      <th>Polynomial Regression (Test)</th>\n",
       "      <th>Decision Tree Regression (Test)</th>\n",
       "      <th>Random Forest Regression (Test)</th>\n",
       "      <th>SVR Regression (Test)</th>\n",
       "    </tr>\n",
       "  </thead>\n",
       "  <tbody>\n",
       "    <tr>\n",
       "      <th>R2</th>\n",
       "      <td>0.277052</td>\n",
       "      <td>0.276352</td>\n",
       "      <td>0.277052</td>\n",
       "      <td>0.276469</td>\n",
       "      <td>0.278474</td>\n",
       "      <td>0.233683</td>\n",
       "      <td>0.310415</td>\n",
       "      <td>0.499981</td>\n",
       "    </tr>\n",
       "    <tr>\n",
       "      <th>RMSE</th>\n",
       "      <td>35.333226</td>\n",
       "      <td>35.350329</td>\n",
       "      <td>35.333227</td>\n",
       "      <td>35.347480</td>\n",
       "      <td>35.298458</td>\n",
       "      <td>36.377606</td>\n",
       "      <td>34.508307</td>\n",
       "      <td>29.384824</td>\n",
       "    </tr>\n",
       "  </tbody>\n",
       "</table>\n",
       "</div>"
      ],
      "text/plain": [
       "      Linear Regression (Test)  Ridge Regression (Test)  \\\n",
       "R2                    0.277052                 0.276352   \n",
       "RMSE                 35.333226                35.350329   \n",
       "\n",
       "      Lasso Regression (Test)  Elastic Net Regression (Test)  \\\n",
       "R2                   0.277052                       0.276469   \n",
       "RMSE                35.333227                      35.347480   \n",
       "\n",
       "      Polynomial Regression (Test)  Decision Tree Regression (Test)  \\\n",
       "R2                        0.278474                         0.233683   \n",
       "RMSE                     35.298458                        36.377606   \n",
       "\n",
       "      Random Forest Regression (Test)  SVR Regression (Test)  \n",
       "R2                           0.310415               0.499981  \n",
       "RMSE                        34.508307              29.384824  "
      ]
     },
     "execution_count": 93,
     "metadata": {},
     "output_type": "execute_result"
    }
   ],
   "source": [
    "metrics = pd.concat(\n",
    "    [\n",
    "        linear_regression_metrics,\n",
    "        ridge_regression_metrics,\n",
    "        lasso_regression_metrics,\n",
    "        elastic_net_regression_metrics,\n",
    "        polynomial_regression_metrics,\n",
    "        decision_tree_regression_metrics,\n",
    "        random_forest_regression_metrics,\n",
    "        svr_regression_metrics,\n",
    "    ],\n",
    "    axis=1,\n",
    ")\n",
    "testing_metrics = metrics.filter(like=\"(Test)\", axis=1)\n",
    "testing_metrics\n"
   ]
  },
  {
   "cell_type": "code",
   "execution_count": null,
   "id": "23223827",
   "metadata": {},
   "outputs": [],
   "source": []
  }
 ],
 "metadata": {
  "interpreter": {
   "hash": "370c432e96fa8207a363aa19249434d63375148c4a55e8542936cb07680fb1ca"
  },
  "kernelspec": {
   "display_name": "Python 3.9.1 64-bit ('SLM-Code': pyenv)",
   "name": "python3"
  },
  "language_info": {
   "codemirror_mode": {
    "name": "ipython",
    "version": 3
   },
   "file_extension": ".py",
   "mimetype": "text/x-python",
   "name": "python",
   "nbconvert_exporter": "python",
   "pygments_lexer": "ipython3",
   "version": "3.9.1"
  }
 },
 "nbformat": 4,
 "nbformat_minor": 5
}
