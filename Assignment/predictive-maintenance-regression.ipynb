{
 "cells": [
  {
   "cell_type": "code",
   "execution_count": 11,
   "id": "98e827c0-2d16-4963-9672-2488581336f0",
   "metadata": {},
   "outputs": [],
   "source": [
    "import pandas as pd\n",
    "import numpy as np\n",
    "import matplotlib.pyplot as plt\n",
    "import seaborn as sns\n",
    "\n",
    "from sklearn import linear_model\n",
    "from sklearn import metrics  \n"
   ]
  },
  {
   "cell_type": "code",
   "execution_count": 4,
   "id": "c0837eb4",
   "metadata": {},
   "outputs": [],
   "source": [
    "training_data = pd.read_csv('data/train_base.csv')\n",
    "test_data = pd.read_csv('data/test_base.csv')"
   ]
  },
  {
   "cell_type": "code",
   "execution_count": 5,
   "id": "44183141",
   "metadata": {},
   "outputs": [
    {
     "data": {
      "text/html": [
       "<div>\n",
       "<style scoped>\n",
       "    .dataframe tbody tr th:only-of-type {\n",
       "        vertical-align: middle;\n",
       "    }\n",
       "\n",
       "    .dataframe tbody tr th {\n",
       "        vertical-align: top;\n",
       "    }\n",
       "\n",
       "    .dataframe thead th {\n",
       "        text-align: right;\n",
       "    }\n",
       "</style>\n",
       "<table border=\"1\" class=\"dataframe\">\n",
       "  <thead>\n",
       "    <tr style=\"text-align: right;\">\n",
       "      <th></th>\n",
       "      <th>ID</th>\n",
       "      <th>Cycle</th>\n",
       "      <th>S1</th>\n",
       "      <th>S2</th>\n",
       "      <th>S3</th>\n",
       "      <th>S4</th>\n",
       "      <th>TTF</th>\n",
       "      <th>TTF_LABEL</th>\n",
       "    </tr>\n",
       "  </thead>\n",
       "  <tbody>\n",
       "    <tr>\n",
       "      <th>0</th>\n",
       "      <td>1</td>\n",
       "      <td>1</td>\n",
       "      <td>1400.60</td>\n",
       "      <td>554.36</td>\n",
       "      <td>47.47</td>\n",
       "      <td>521.66</td>\n",
       "      <td>191</td>\n",
       "      <td>0</td>\n",
       "    </tr>\n",
       "    <tr>\n",
       "      <th>1</th>\n",
       "      <td>1</td>\n",
       "      <td>2</td>\n",
       "      <td>1403.14</td>\n",
       "      <td>553.75</td>\n",
       "      <td>47.49</td>\n",
       "      <td>522.28</td>\n",
       "      <td>190</td>\n",
       "      <td>0</td>\n",
       "    </tr>\n",
       "    <tr>\n",
       "      <th>2</th>\n",
       "      <td>1</td>\n",
       "      <td>3</td>\n",
       "      <td>1404.20</td>\n",
       "      <td>554.26</td>\n",
       "      <td>47.27</td>\n",
       "      <td>522.42</td>\n",
       "      <td>189</td>\n",
       "      <td>0</td>\n",
       "    </tr>\n",
       "    <tr>\n",
       "      <th>3</th>\n",
       "      <td>1</td>\n",
       "      <td>4</td>\n",
       "      <td>1401.87</td>\n",
       "      <td>554.45</td>\n",
       "      <td>47.13</td>\n",
       "      <td>522.86</td>\n",
       "      <td>188</td>\n",
       "      <td>0</td>\n",
       "    </tr>\n",
       "    <tr>\n",
       "      <th>4</th>\n",
       "      <td>1</td>\n",
       "      <td>5</td>\n",
       "      <td>1406.22</td>\n",
       "      <td>554.00</td>\n",
       "      <td>47.28</td>\n",
       "      <td>522.19</td>\n",
       "      <td>187</td>\n",
       "      <td>0</td>\n",
       "    </tr>\n",
       "  </tbody>\n",
       "</table>\n",
       "</div>"
      ],
      "text/plain": [
       "   ID  Cycle       S1      S2     S3      S4  TTF  TTF_LABEL\n",
       "0   1      1  1400.60  554.36  47.47  521.66  191          0\n",
       "1   1      2  1403.14  553.75  47.49  522.28  190          0\n",
       "2   1      3  1404.20  554.26  47.27  522.42  189          0\n",
       "3   1      4  1401.87  554.45  47.13  522.86  188          0\n",
       "4   1      5  1406.22  554.00  47.28  522.19  187          0"
      ]
     },
     "execution_count": 5,
     "metadata": {},
     "output_type": "execute_result"
    }
   ],
   "source": [
    "training_data.head()"
   ]
  },
  {
   "cell_type": "code",
   "execution_count": 6,
   "id": "22cec7bd",
   "metadata": {},
   "outputs": [
    {
     "data": {
      "text/html": [
       "<div>\n",
       "<style scoped>\n",
       "    .dataframe tbody tr th:only-of-type {\n",
       "        vertical-align: middle;\n",
       "    }\n",
       "\n",
       "    .dataframe tbody tr th {\n",
       "        vertical-align: top;\n",
       "    }\n",
       "\n",
       "    .dataframe thead th {\n",
       "        text-align: right;\n",
       "    }\n",
       "</style>\n",
       "<table border=\"1\" class=\"dataframe\">\n",
       "  <thead>\n",
       "    <tr style=\"text-align: right;\">\n",
       "      <th></th>\n",
       "      <th>ID</th>\n",
       "      <th>Cycle</th>\n",
       "      <th>S1</th>\n",
       "      <th>S2</th>\n",
       "      <th>S3</th>\n",
       "      <th>S4</th>\n",
       "      <th>TTF</th>\n",
       "      <th>TTF_LABEL</th>\n",
       "    </tr>\n",
       "  </thead>\n",
       "  <tbody>\n",
       "    <tr>\n",
       "      <th>0</th>\n",
       "      <td>1</td>\n",
       "      <td>31</td>\n",
       "      <td>1398.91</td>\n",
       "      <td>554.42</td>\n",
       "      <td>47.23</td>\n",
       "      <td>521.79</td>\n",
       "      <td>112</td>\n",
       "      <td>0</td>\n",
       "    </tr>\n",
       "    <tr>\n",
       "      <th>1</th>\n",
       "      <td>2</td>\n",
       "      <td>49</td>\n",
       "      <td>1410.83</td>\n",
       "      <td>553.52</td>\n",
       "      <td>47.67</td>\n",
       "      <td>521.74</td>\n",
       "      <td>98</td>\n",
       "      <td>0</td>\n",
       "    </tr>\n",
       "    <tr>\n",
       "      <th>2</th>\n",
       "      <td>3</td>\n",
       "      <td>126</td>\n",
       "      <td>1418.89</td>\n",
       "      <td>552.59</td>\n",
       "      <td>47.88</td>\n",
       "      <td>520.83</td>\n",
       "      <td>69</td>\n",
       "      <td>0</td>\n",
       "    </tr>\n",
       "    <tr>\n",
       "      <th>3</th>\n",
       "      <td>4</td>\n",
       "      <td>106</td>\n",
       "      <td>1406.88</td>\n",
       "      <td>552.64</td>\n",
       "      <td>47.65</td>\n",
       "      <td>521.88</td>\n",
       "      <td>82</td>\n",
       "      <td>0</td>\n",
       "    </tr>\n",
       "    <tr>\n",
       "      <th>4</th>\n",
       "      <td>5</td>\n",
       "      <td>98</td>\n",
       "      <td>1419.36</td>\n",
       "      <td>553.29</td>\n",
       "      <td>47.46</td>\n",
       "      <td>521.00</td>\n",
       "      <td>91</td>\n",
       "      <td>0</td>\n",
       "    </tr>\n",
       "  </tbody>\n",
       "</table>\n",
       "</div>"
      ],
      "text/plain": [
       "   ID  Cycle       S1      S2     S3      S4  TTF  TTF_LABEL\n",
       "0   1     31  1398.91  554.42  47.23  521.79  112          0\n",
       "1   2     49  1410.83  553.52  47.67  521.74   98          0\n",
       "2   3    126  1418.89  552.59  47.88  520.83   69          0\n",
       "3   4    106  1406.88  552.64  47.65  521.88   82          0\n",
       "4   5     98  1419.36  553.29  47.46  521.00   91          0"
      ]
     },
     "execution_count": 6,
     "metadata": {},
     "output_type": "execute_result"
    }
   ],
   "source": [
    "test_data.head()"
   ]
  },
  {
   "cell_type": "code",
   "execution_count": 7,
   "id": "573fe6d9",
   "metadata": {},
   "outputs": [],
   "source": [
    "# Define features and target\n",
    "features = ['S1', 'S2', 'S3', 'S4']\n",
    "target = 'TTF'"
   ]
  },
  {
   "cell_type": "code",
   "execution_count": 8,
   "id": "36342543",
   "metadata": {},
   "outputs": [
    {
     "data": {
      "text/html": [
       "<div>\n",
       "<style scoped>\n",
       "    .dataframe tbody tr th:only-of-type {\n",
       "        vertical-align: middle;\n",
       "    }\n",
       "\n",
       "    .dataframe tbody tr th {\n",
       "        vertical-align: top;\n",
       "    }\n",
       "\n",
       "    .dataframe thead th {\n",
       "        text-align: right;\n",
       "    }\n",
       "</style>\n",
       "<table border=\"1\" class=\"dataframe\">\n",
       "  <thead>\n",
       "    <tr style=\"text-align: right;\">\n",
       "      <th></th>\n",
       "      <th>S1</th>\n",
       "      <th>S2</th>\n",
       "      <th>S3</th>\n",
       "      <th>S4</th>\n",
       "    </tr>\n",
       "  </thead>\n",
       "  <tbody>\n",
       "    <tr>\n",
       "      <th>0</th>\n",
       "      <td>1400.60</td>\n",
       "      <td>554.36</td>\n",
       "      <td>47.47</td>\n",
       "      <td>521.66</td>\n",
       "    </tr>\n",
       "    <tr>\n",
       "      <th>1</th>\n",
       "      <td>1403.14</td>\n",
       "      <td>553.75</td>\n",
       "      <td>47.49</td>\n",
       "      <td>522.28</td>\n",
       "    </tr>\n",
       "    <tr>\n",
       "      <th>2</th>\n",
       "      <td>1404.20</td>\n",
       "      <td>554.26</td>\n",
       "      <td>47.27</td>\n",
       "      <td>522.42</td>\n",
       "    </tr>\n",
       "    <tr>\n",
       "      <th>3</th>\n",
       "      <td>1401.87</td>\n",
       "      <td>554.45</td>\n",
       "      <td>47.13</td>\n",
       "      <td>522.86</td>\n",
       "    </tr>\n",
       "    <tr>\n",
       "      <th>4</th>\n",
       "      <td>1406.22</td>\n",
       "      <td>554.00</td>\n",
       "      <td>47.28</td>\n",
       "      <td>522.19</td>\n",
       "    </tr>\n",
       "  </tbody>\n",
       "</table>\n",
       "</div>"
      ],
      "text/plain": [
       "        S1      S2     S3      S4\n",
       "0  1400.60  554.36  47.47  521.66\n",
       "1  1403.14  553.75  47.49  522.28\n",
       "2  1404.20  554.26  47.27  522.42\n",
       "3  1401.87  554.45  47.13  522.86\n",
       "4  1406.22  554.00  47.28  522.19"
      ]
     },
     "execution_count": 8,
     "metadata": {},
     "output_type": "execute_result"
    }
   ],
   "source": [
    "training_data[features].head()"
   ]
  },
  {
   "cell_type": "code",
   "execution_count": 12,
   "id": "0d387851",
   "metadata": {},
   "outputs": [],
   "source": [
    "# Linear regression\n",
    "linear_regressor = linear_model.LinearRegression();\n",
    "linear_regressor.fit(training_data[features], training_data[target])\n",
    "\n",
    "training_predictions = linear_regressor.predict(training_data[features])\n",
    "test_predictions = linear_regressor.predict(test_data[features])"
   ]
  },
  {
   "cell_type": "code",
   "execution_count": 14,
   "id": "e1fb8ed9",
   "metadata": {},
   "outputs": [
    {
     "data": {
      "text/plain": [
       "35.333225540945094"
      ]
     },
     "execution_count": 14,
     "metadata": {},
     "output_type": "execute_result"
    }
   ],
   "source": [
    "# Calculate the RMSE error\n",
    "test_rmse = np.sqrt(metrics.mean_squared_error(test_data[target], test_predictions))\n",
    "test_rmse"
   ]
  },
  {
   "cell_type": "code",
   "execution_count": 16,
   "id": "101cbc68",
   "metadata": {},
   "outputs": [
    {
     "data": {
      "text/plain": [
       "0.5307025457616186"
      ]
     },
     "execution_count": 16,
     "metadata": {},
     "output_type": "execute_result"
    }
   ],
   "source": [
    "# Calculate the R2 score\n",
    "training_r2 = metrics.r2_score(training_data[target], training_predictions)\n",
    "training_r2"
   ]
  },
  {
   "cell_type": "code",
   "execution_count": 17,
   "id": "122e1939",
   "metadata": {},
   "outputs": [],
   "source": [
    "\n",
    "def plot_features_weights(model, weights, feature_names, weights_type='c'):\n",
    "    \n",
    "    \"\"\"Plot regression coefficients weights or feature importance.\n",
    "    \n",
    "    Args:\n",
    "        model (str): The model name identifier\n",
    "        weights (array): Contains the regression coefficients weights or feature importance\n",
    "        feature_names (list): Contains the corresponding features names\n",
    "        weights_type (str): 'c' for 'coefficients weights', otherwise is 'feature importance'\n",
    "        \n",
    "    Returns:\n",
    "        plot of either regression coefficients weights or feature importance\n",
    "        \n",
    "    \n",
    "    \"\"\"\n",
    "    (px, py) = (8, 10) if len(weights) > 30 else (8, 5)\n",
    "    W = pd.DataFrame({'Weights':weights}, feature_names)\n",
    "    W.sort_values(by='Weights', ascending=True).plot(kind='barh', color='r', figsize=(px,py))\n",
    "    label = ' Coefficients' if weights_type =='c' else ' Features Importance'\n",
    "    plt.xlabel(model + label)\n",
    "    plt.gca().legend_ = None"
   ]
  },
  {
   "cell_type": "code",
   "execution_count": 18,
   "id": "ae8d0bc9",
   "metadata": {},
   "outputs": [
    {
     "data": {
      "image/png": "[encoded data removed]",
      "text/plain": [
       "<Figure size 576x360 with 1 Axes>"
      ]
     },
     "metadata": {
      "needs_background": "light"
     },
     "output_type": "display_data"
    }
   ],
   "source": [
    "plot_features_weights('Linear Regression', linear_regressor.coef_, features, 'c')"
   ]
  },
  {
   "cell_type": "code",
   "execution_count": 19,
   "id": "b6603638",
   "metadata": {},
   "outputs": [],
   "source": [
    "def plot_residual(model, y_train, y_train_pred, y_test, y_test_pred):\n",
    "    \n",
    "    \"\"\"Print the regression residuals.\n",
    "    \n",
    "    Args:\n",
    "        model (str): The model name identifier\n",
    "        y_train (series): The training labels\n",
    "        y_train_pred (series): Predictions on training data\n",
    "        y_test (series): The test labels\n",
    "        y_test_pred (series): Predictions on test data\n",
    "        \n",
    "    Returns:\n",
    "        Plot of regression residuals\n",
    "    \n",
    "    \"\"\"\n",
    "    \n",
    "    plt.scatter(y_train_pred, y_train_pred - y_train, c='blue', marker='o', label='Training data')\n",
    "    plt.scatter(y_test_pred, y_test_pred - y_test, c='lightgreen', marker='s', label='Test data')\n",
    "    plt.xlabel('Predicted Values')\n",
    "    plt.ylabel('Residuals')\n",
    "    plt.legend(loc='upper left')\n",
    "    plt.hlines(y=0, xmin=-50, xmax=400, color='red', lw=2)\n",
    "    plt.title(model + ' Residuals')\n",
    "    plt.show()"
   ]
  },
  {
   "cell_type": "code",
   "execution_count": 20,
   "id": "6bd0c839",
   "metadata": {},
   "outputs": [
    {
     "data": {
      "image/png": "[encoded data removed]",
      "text/plain": [
       "<Figure size 432x288 with 1 Axes>"
      ]
     },
     "metadata": {
      "needs_background": "light"
     },
     "output_type": "display_data"
    }
   ],
   "source": [
    "plot_residual('Linear Regression', training_data[target], training_predictions, test_data[target], test_predictions)"
   ]
  },
  {
   "cell_type": "code",
   "execution_count": null,
   "id": "176e0c1b",
   "metadata": {},
   "outputs": [],
   "source": []
  }
 ],
 "metadata": {
  "interpreter": {
   "hash": "370c432e96fa8207a363aa19249434d63375148c4a55e8542936cb07680fb1ca"
  },
  "kernelspec": {
   "display_name": "Python 3.9.1 64-bit ('SLM-Code': pyenv)",
   "name": "python3"
  },
  "language_info": {
   "codemirror_mode": {
    "name": "ipython",
    "version": 3
   },
   "file_extension": ".py",
   "mimetype": "text/x-python",
   "name": "python",
   "nbconvert_exporter": "python",
   "pygments_lexer": "ipython3",
   "version": "3.9.1"
  }
 },
 "nbformat": 4,
 "nbformat_minor": 5
}
